{
  "nbformat": 4,
  "nbformat_minor": 0,
  "metadata": {
    "colab": {
      "provenance": [],
      "include_colab_link": true
    },
    "kernelspec": {
      "name": "python3",
      "display_name": "Python 3"
    },
    "language_info": {
      "name": "python"
    }
  },
  "cells": [
    {
      "cell_type": "markdown",
      "metadata": {
        "id": "view-in-github",
        "colab_type": "text"
      },
      "source": [
        "<a href=\"https://colab.research.google.com/github/hogan-tech/123-Essential-JavaScript-Interview-Questions/blob/master/ML_Project_Time_Series(V2).ipynb\" target=\"_parent\"><img src=\"https://colab.research.google.com/assets/colab-badge.svg\" alt=\"Open In Colab\"/></a>"
      ]
    },
    {
      "cell_type": "markdown",
      "source": [
        "# Import data"
      ],
      "metadata": {
        "id": "aU0l0MiFQJSq"
      }
    },
    {
      "cell_type": "code",
      "source": [
        "!pip install kaggle"
      ],
      "metadata": {
        "colab": {
          "base_uri": "https://localhost:8080/"
        },
        "id": "J06XMeCWnOdq",
        "outputId": "223806f9-7584-42c4-b18d-0cda17419431"
      },
      "execution_count": null,
      "outputs": [
        {
          "output_type": "stream",
          "name": "stdout",
          "text": [
            "Requirement already satisfied: kaggle in /usr/local/lib/python3.10/dist-packages (1.6.17)\n",
            "Requirement already satisfied: six>=1.10 in /usr/local/lib/python3.10/dist-packages (from kaggle) (1.16.0)\n",
            "Requirement already satisfied: certifi>=2023.7.22 in /usr/local/lib/python3.10/dist-packages (from kaggle) (2024.8.30)\n",
            "Requirement already satisfied: python-dateutil in /usr/local/lib/python3.10/dist-packages (from kaggle) (2.8.2)\n",
            "Requirement already satisfied: requests in /usr/local/lib/python3.10/dist-packages (from kaggle) (2.32.3)\n",
            "Requirement already satisfied: tqdm in /usr/local/lib/python3.10/dist-packages (from kaggle) (4.66.6)\n",
            "Requirement already satisfied: python-slugify in /usr/local/lib/python3.10/dist-packages (from kaggle) (8.0.4)\n",
            "Requirement already satisfied: urllib3 in /usr/local/lib/python3.10/dist-packages (from kaggle) (2.2.3)\n",
            "Requirement already satisfied: bleach in /usr/local/lib/python3.10/dist-packages (from kaggle) (6.2.0)\n",
            "Requirement already satisfied: webencodings in /usr/local/lib/python3.10/dist-packages (from bleach->kaggle) (0.5.1)\n",
            "Requirement already satisfied: text-unidecode>=1.3 in /usr/local/lib/python3.10/dist-packages (from python-slugify->kaggle) (1.3)\n",
            "Requirement already satisfied: charset-normalizer<4,>=2 in /usr/local/lib/python3.10/dist-packages (from requests->kaggle) (3.4.0)\n",
            "Requirement already satisfied: idna<4,>=2.5 in /usr/local/lib/python3.10/dist-packages (from requests->kaggle) (3.10)\n"
          ]
        }
      ]
    },
    {
      "cell_type": "code",
      "source": [
        "!pip install --upgrade holidays"
      ],
      "metadata": {
        "colab": {
          "base_uri": "https://localhost:8080/"
        },
        "id": "KA9NKwaXsP-O",
        "outputId": "8b3c8400-bf36-4969-fcb0-0f7e903c2653"
      },
      "execution_count": null,
      "outputs": [
        {
          "output_type": "stream",
          "name": "stdout",
          "text": [
            "Requirement already satisfied: holidays in /usr/local/lib/python3.10/dist-packages (0.60)\n",
            "Requirement already satisfied: python-dateutil in /usr/local/lib/python3.10/dist-packages (from holidays) (2.8.2)\n",
            "Requirement already satisfied: six>=1.5 in /usr/local/lib/python3.10/dist-packages (from python-dateutil->holidays) (1.16.0)\n"
          ]
        }
      ]
    },
    {
      "cell_type": "code",
      "execution_count": null,
      "metadata": {
        "id": "WM84WJUBmHLR"
      },
      "outputs": [],
      "source": [
        "#Importing all the required libraries\n",
        "import tensorflow as tf\n",
        "import pandas as pd\n",
        "import numpy as np\n",
        "import matplotlib.pyplot as plt\n",
        "import sklearn.preprocessing\n",
        "import holidays\n",
        "import os\n",
        "import seaborn as sns"
      ]
    },
    {
      "cell_type": "markdown",
      "source": [
        "#Import Hourly Energy Consumption Dataset\n",
        "\n",
        "The hourly energy consumption datasets consist of energy (megawatt units) of different power companies in the US."
      ],
      "metadata": {
        "id": "qN34xj6WQWkL"
      }
    },
    {
      "cell_type": "code",
      "source": [
        "#Loading the dataset\n",
        "import kagglehub\n",
        "\n",
        "path = kagglehub.dataset_download(\"robikscube/hourly-energy-consumption\")\n",
        "\n",
        "print(\"Path to dataset files:\", path)"
      ],
      "metadata": {
        "colab": {
          "base_uri": "https://localhost:8080/"
        },
        "id": "ulqv8UdvnP1P",
        "outputId": "37ed5170-510c-4a19-9ab1-3ca192b52853"
      },
      "execution_count": null,
      "outputs": [
        {
          "output_type": "stream",
          "name": "stdout",
          "text": [
            "Downloading from https://www.kaggle.com/api/v1/datasets/download/robikscube/hourly-energy-consumption?dataset_version_number=3...\n"
          ]
        },
        {
          "output_type": "stream",
          "name": "stderr",
          "text": [
            "100%|██████████| 11.4M/11.4M [00:00<00:00, 37.3MB/s]"
          ]
        },
        {
          "output_type": "stream",
          "name": "stdout",
          "text": [
            "Extracting files...\n"
          ]
        },
        {
          "output_type": "stream",
          "name": "stderr",
          "text": [
            "\n"
          ]
        },
        {
          "output_type": "stream",
          "name": "stdout",
          "text": [
            "Path to dataset files: /root/.cache/kagglehub/datasets/robikscube/hourly-energy-consumption/versions/3\n"
          ]
        }
      ]
    },
    {
      "cell_type": "markdown",
      "source": [
        "# Import holiday dataset\n",
        "We want to use external US holiday dataset to see if we can find a pattern of energy consumption around holiday days"
      ],
      "metadata": {
        "id": "mXRa-hoGQMlt"
      }
    },
    {
      "cell_type": "code",
      "source": [
        "path_holiday = kagglehub.dataset_download(\"donnetew/us-holiday-dates-2004-2021\")"
      ],
      "metadata": {
        "id": "2e3smK2woO1y",
        "colab": {
          "base_uri": "https://localhost:8080/"
        },
        "outputId": "e6fbd611-5ef2-4fc3-8e76-dd8dad243ed1"
      },
      "execution_count": null,
      "outputs": [
        {
          "output_type": "stream",
          "name": "stdout",
          "text": [
            "Downloading from https://www.kaggle.com/api/v1/datasets/download/donnetew/us-holiday-dates-2004-2021?dataset_version_number=1...\n"
          ]
        },
        {
          "output_type": "stream",
          "name": "stderr",
          "text": [
            "100%|██████████| 2.45k/2.45k [00:00<00:00, 4.23MB/s]"
          ]
        },
        {
          "output_type": "stream",
          "name": "stdout",
          "text": [
            "Extracting files...\n"
          ]
        },
        {
          "output_type": "stream",
          "name": "stderr",
          "text": [
            "\n"
          ]
        }
      ]
    },
    {
      "cell_type": "code",
      "source": [
        "print(\"Path to holiday dataset:\", path_holiday)\n"
      ],
      "metadata": {
        "colab": {
          "base_uri": "https://localhost:8080/"
        },
        "id": "8grlkb53ohpM",
        "outputId": "5cff5cdd-f191-4e77-8912-391bdd57293f"
      },
      "execution_count": null,
      "outputs": [
        {
          "output_type": "stream",
          "name": "stdout",
          "text": [
            "Path to holiday dataset: /root/.cache/kagglehub/datasets/donnetew/us-holiday-dates-2004-2021/versions/1\n"
          ]
        }
      ]
    },
    {
      "cell_type": "code",
      "source": [
        "!ls /root/.cache/kagglehub/datasets/robikscube/hourly-energy-consumption/versions/3\n"
      ],
      "metadata": {
        "colab": {
          "base_uri": "https://localhost:8080/"
        },
        "id": "eCaPkzfynxkn",
        "outputId": "56888620-cdc5-4ef4-fe4f-b7a0a008f55e"
      },
      "execution_count": null,
      "outputs": [
        {
          "output_type": "stream",
          "name": "stdout",
          "text": [
            "AEP_hourly.csv\t   DEOK_hourly.csv  EKPC_hourly.csv\tNI_hourly.csv\t    PJM_Load_hourly.csv\n",
            "COMED_hourly.csv   DOM_hourly.csv   est_hourly.paruqet\tPJME_hourly.csv     PJMW_hourly.csv\n",
            "DAYTON_hourly.csv  DUQ_hourly.csv   FE_hourly.csv\tpjm_hourly_est.csv\n"
          ]
        }
      ]
    },
    {
      "cell_type": "markdown",
      "source": [
        "# 1. Data Exploration and Analysis\n"
      ],
      "metadata": {
        "id": "QIhDSnvppNAr"
      }
    },
    {
      "cell_type": "markdown",
      "source": [
        "## 1.1 Merging the energy consumption datasets\n",
        "By Yian"
      ],
      "metadata": {
        "id": "FAJIUlcvQ62W"
      }
    },
    {
      "cell_type": "code",
      "source": [
        "aep = pd.read_csv(os.path.join(path, \"AEP_hourly.csv\"))\n",
        "comed = pd.read_csv(os.path.join(path, \"COMED_hourly.csv\"))\n",
        "dayton = pd.read_csv(os.path.join(path, \"DAYTON_hourly.csv\"))\n",
        "deok = pd.read_csv(os.path.join(path, \"DEOK_hourly.csv\"))\n",
        "dom = pd.read_csv(os.path.join(path, \"DOM_hourly.csv\"))\n",
        "duq = pd.read_csv(os.path.join(path, \"DUQ_hourly.csv\"))\n",
        "ekpc = pd.read_csv(os.path.join(path, \"EKPC_hourly.csv\"))\n",
        "fe = pd.read_csv(os.path.join(path, \"FE_hourly.csv\"))\n",
        "ni = pd.read_csv(os.path.join(path, \"NI_hourly.csv\"))\n",
        "pjme = pd.read_csv(os.path.join(path, \"PJME_hourly.csv\"))\n",
        "pjm = pd.read_csv(os.path.join(path, \"pjm_hourly_est.csv\")) # diff format\n",
        "pjm_load = pd.read_csv(os.path.join(path, \"PJM_Load_hourly.csv\"))\n",
        "pjmw = pd.read_csv(os.path.join(path, \"PJMW_hourly.csv\"))"
      ],
      "metadata": {
        "id": "7B6beNp1scOm"
      },
      "execution_count": null,
      "outputs": []
    },
    {
      "cell_type": "code",
      "source": [
        "aep[\"company\"] = \"AEP_MW\"\n",
        "comed[\"company\"] = \"COMED_MW\"\n",
        "dayton[\"company\"] = \"DAYTON_MW\"\n",
        "deok[\"company\"] = \"DEOK_MW\"\n",
        "dom[\"company\"] = \"DOM_MW\"\n",
        "duq[\"company\"] = \"DUQ_MW\"\n",
        "ekpc[\"company\"] = \"EKPC_MW\"\n",
        "fe[\"company\"] = \"FE_MW\"\n",
        "ni[\"company\"] = \"NI_MW\"\n",
        "pjme[\"company\"] = \"PJME_MW\"\n",
        "pjmw[\"company\"] = \"PJMW_MW\"\n",
        "pjm_load[\"company\"] = \"PJM_Load_MW\""
      ],
      "metadata": {
        "id": "fm2xP5i6zWT8"
      },
      "execution_count": null,
      "outputs": []
    },
    {
      "cell_type": "code",
      "source": [
        "aep = aep.rename(columns={\"AEP_MW\": \"MW\"})\n",
        "comed = comed.rename(columns={\"COMED_MW\": \"MW\"})\n",
        "dayton = dayton.rename(columns={\"DAYTON_MW\": \"MW\"})\n",
        "deok = deok.rename(columns={\"DEOK_MW\": \"MW\"})\n",
        "dom = dom.rename(columns={\"DOM_MW\": \"MW\"})\n",
        "duq = duq.rename(columns={\"DUQ_MW\": \"MW\"})\n",
        "ekpc = ekpc.rename(columns={\"EKPC_MW\": \"MW\"})\n",
        "fe = fe.rename(columns={\"FE_MW\": \"MW\"})\n",
        "ni = ni.rename(columns={\"NI_MW\": \"MW\"})\n",
        "pjme = pjme.rename(columns={\"PJME_MW\": \"MW\"})\n",
        "pjmw = pjmw.rename(columns={\"PJMW_MW\": \"MW\"})\n",
        "pjm_load = pjm_load.rename(columns={\"PJM_Load_MW\": \"MW\"})"
      ],
      "metadata": {
        "id": "QUcPK4BNwIrz"
      },
      "execution_count": null,
      "outputs": []
    },
    {
      "cell_type": "code",
      "source": [
        "df_combined = pd.concat([aep, comed, dayton, deok, dom, duq, ekpc, fe, ni, pjme, pjmw, pjm_load], ignore_index=True)\n",
        "df_combined.head()"
      ],
      "metadata": {
        "colab": {
          "base_uri": "https://localhost:8080/",
          "height": 206
        },
        "id": "QFPG81ALwlaU",
        "outputId": "510514fa-1069-4e5b-8d1e-f69537cdb1fe"
      },
      "execution_count": null,
      "outputs": [
        {
          "output_type": "execute_result",
          "data": {
            "text/plain": [
              "              Datetime       MW company\n",
              "0  2004-12-31 01:00:00  13478.0  AEP_MW\n",
              "1  2004-12-31 02:00:00  12865.0  AEP_MW\n",
              "2  2004-12-31 03:00:00  12577.0  AEP_MW\n",
              "3  2004-12-31 04:00:00  12517.0  AEP_MW\n",
              "4  2004-12-31 05:00:00  12670.0  AEP_MW"
            ],
            "text/html": [
              "\n",
              "  <div id=\"df-8c5d7c78-0d14-4f80-afde-492eb0e0452f\" class=\"colab-df-container\">\n",
              "    <div>\n",
              "<style scoped>\n",
              "    .dataframe tbody tr th:only-of-type {\n",
              "        vertical-align: middle;\n",
              "    }\n",
              "\n",
              "    .dataframe tbody tr th {\n",
              "        vertical-align: top;\n",
              "    }\n",
              "\n",
              "    .dataframe thead th {\n",
              "        text-align: right;\n",
              "    }\n",
              "</style>\n",
              "<table border=\"1\" class=\"dataframe\">\n",
              "  <thead>\n",
              "    <tr style=\"text-align: right;\">\n",
              "      <th></th>\n",
              "      <th>Datetime</th>\n",
              "      <th>MW</th>\n",
              "      <th>company</th>\n",
              "    </tr>\n",
              "  </thead>\n",
              "  <tbody>\n",
              "    <tr>\n",
              "      <th>0</th>\n",
              "      <td>2004-12-31 01:00:00</td>\n",
              "      <td>13478.0</td>\n",
              "      <td>AEP_MW</td>\n",
              "    </tr>\n",
              "    <tr>\n",
              "      <th>1</th>\n",
              "      <td>2004-12-31 02:00:00</td>\n",
              "      <td>12865.0</td>\n",
              "      <td>AEP_MW</td>\n",
              "    </tr>\n",
              "    <tr>\n",
              "      <th>2</th>\n",
              "      <td>2004-12-31 03:00:00</td>\n",
              "      <td>12577.0</td>\n",
              "      <td>AEP_MW</td>\n",
              "    </tr>\n",
              "    <tr>\n",
              "      <th>3</th>\n",
              "      <td>2004-12-31 04:00:00</td>\n",
              "      <td>12517.0</td>\n",
              "      <td>AEP_MW</td>\n",
              "    </tr>\n",
              "    <tr>\n",
              "      <th>4</th>\n",
              "      <td>2004-12-31 05:00:00</td>\n",
              "      <td>12670.0</td>\n",
              "      <td>AEP_MW</td>\n",
              "    </tr>\n",
              "  </tbody>\n",
              "</table>\n",
              "</div>\n",
              "    <div class=\"colab-df-buttons\">\n",
              "\n",
              "  <div class=\"colab-df-container\">\n",
              "    <button class=\"colab-df-convert\" onclick=\"convertToInteractive('df-8c5d7c78-0d14-4f80-afde-492eb0e0452f')\"\n",
              "            title=\"Convert this dataframe to an interactive table.\"\n",
              "            style=\"display:none;\">\n",
              "\n",
              "  <svg xmlns=\"http://www.w3.org/2000/svg\" height=\"24px\" viewBox=\"0 -960 960 960\">\n",
              "    <path d=\"M120-120v-720h720v720H120Zm60-500h600v-160H180v160Zm220 220h160v-160H400v160Zm0 220h160v-160H400v160ZM180-400h160v-160H180v160Zm440 0h160v-160H620v160ZM180-180h160v-160H180v160Zm440 0h160v-160H620v160Z\"/>\n",
              "  </svg>\n",
              "    </button>\n",
              "\n",
              "  <style>\n",
              "    .colab-df-container {\n",
              "      display:flex;\n",
              "      gap: 12px;\n",
              "    }\n",
              "\n",
              "    .colab-df-convert {\n",
              "      background-color: #E8F0FE;\n",
              "      border: none;\n",
              "      border-radius: 50%;\n",
              "      cursor: pointer;\n",
              "      display: none;\n",
              "      fill: #1967D2;\n",
              "      height: 32px;\n",
              "      padding: 0 0 0 0;\n",
              "      width: 32px;\n",
              "    }\n",
              "\n",
              "    .colab-df-convert:hover {\n",
              "      background-color: #E2EBFA;\n",
              "      box-shadow: 0px 1px 2px rgba(60, 64, 67, 0.3), 0px 1px 3px 1px rgba(60, 64, 67, 0.15);\n",
              "      fill: #174EA6;\n",
              "    }\n",
              "\n",
              "    .colab-df-buttons div {\n",
              "      margin-bottom: 4px;\n",
              "    }\n",
              "\n",
              "    [theme=dark] .colab-df-convert {\n",
              "      background-color: #3B4455;\n",
              "      fill: #D2E3FC;\n",
              "    }\n",
              "\n",
              "    [theme=dark] .colab-df-convert:hover {\n",
              "      background-color: #434B5C;\n",
              "      box-shadow: 0px 1px 3px 1px rgba(0, 0, 0, 0.15);\n",
              "      filter: drop-shadow(0px 1px 2px rgba(0, 0, 0, 0.3));\n",
              "      fill: #FFFFFF;\n",
              "    }\n",
              "  </style>\n",
              "\n",
              "    <script>\n",
              "      const buttonEl =\n",
              "        document.querySelector('#df-8c5d7c78-0d14-4f80-afde-492eb0e0452f button.colab-df-convert');\n",
              "      buttonEl.style.display =\n",
              "        google.colab.kernel.accessAllowed ? 'block' : 'none';\n",
              "\n",
              "      async function convertToInteractive(key) {\n",
              "        const element = document.querySelector('#df-8c5d7c78-0d14-4f80-afde-492eb0e0452f');\n",
              "        const dataTable =\n",
              "          await google.colab.kernel.invokeFunction('convertToInteractive',\n",
              "                                                    [key], {});\n",
              "        if (!dataTable) return;\n",
              "\n",
              "        const docLinkHtml = 'Like what you see? Visit the ' +\n",
              "          '<a target=\"_blank\" href=https://colab.research.google.com/notebooks/data_table.ipynb>data table notebook</a>'\n",
              "          + ' to learn more about interactive tables.';\n",
              "        element.innerHTML = '';\n",
              "        dataTable['output_type'] = 'display_data';\n",
              "        await google.colab.output.renderOutput(dataTable, element);\n",
              "        const docLink = document.createElement('div');\n",
              "        docLink.innerHTML = docLinkHtml;\n",
              "        element.appendChild(docLink);\n",
              "      }\n",
              "    </script>\n",
              "  </div>\n",
              "\n",
              "\n",
              "<div id=\"df-b7221889-4d0e-47d5-81af-4562a7b65888\">\n",
              "  <button class=\"colab-df-quickchart\" onclick=\"quickchart('df-b7221889-4d0e-47d5-81af-4562a7b65888')\"\n",
              "            title=\"Suggest charts\"\n",
              "            style=\"display:none;\">\n",
              "\n",
              "<svg xmlns=\"http://www.w3.org/2000/svg\" height=\"24px\"viewBox=\"0 0 24 24\"\n",
              "     width=\"24px\">\n",
              "    <g>\n",
              "        <path d=\"M19 3H5c-1.1 0-2 .9-2 2v14c0 1.1.9 2 2 2h14c1.1 0 2-.9 2-2V5c0-1.1-.9-2-2-2zM9 17H7v-7h2v7zm4 0h-2V7h2v10zm4 0h-2v-4h2v4z\"/>\n",
              "    </g>\n",
              "</svg>\n",
              "  </button>\n",
              "\n",
              "<style>\n",
              "  .colab-df-quickchart {\n",
              "      --bg-color: #E8F0FE;\n",
              "      --fill-color: #1967D2;\n",
              "      --hover-bg-color: #E2EBFA;\n",
              "      --hover-fill-color: #174EA6;\n",
              "      --disabled-fill-color: #AAA;\n",
              "      --disabled-bg-color: #DDD;\n",
              "  }\n",
              "\n",
              "  [theme=dark] .colab-df-quickchart {\n",
              "      --bg-color: #3B4455;\n",
              "      --fill-color: #D2E3FC;\n",
              "      --hover-bg-color: #434B5C;\n",
              "      --hover-fill-color: #FFFFFF;\n",
              "      --disabled-bg-color: #3B4455;\n",
              "      --disabled-fill-color: #666;\n",
              "  }\n",
              "\n",
              "  .colab-df-quickchart {\n",
              "    background-color: var(--bg-color);\n",
              "    border: none;\n",
              "    border-radius: 50%;\n",
              "    cursor: pointer;\n",
              "    display: none;\n",
              "    fill: var(--fill-color);\n",
              "    height: 32px;\n",
              "    padding: 0;\n",
              "    width: 32px;\n",
              "  }\n",
              "\n",
              "  .colab-df-quickchart:hover {\n",
              "    background-color: var(--hover-bg-color);\n",
              "    box-shadow: 0 1px 2px rgba(60, 64, 67, 0.3), 0 1px 3px 1px rgba(60, 64, 67, 0.15);\n",
              "    fill: var(--button-hover-fill-color);\n",
              "  }\n",
              "\n",
              "  .colab-df-quickchart-complete:disabled,\n",
              "  .colab-df-quickchart-complete:disabled:hover {\n",
              "    background-color: var(--disabled-bg-color);\n",
              "    fill: var(--disabled-fill-color);\n",
              "    box-shadow: none;\n",
              "  }\n",
              "\n",
              "  .colab-df-spinner {\n",
              "    border: 2px solid var(--fill-color);\n",
              "    border-color: transparent;\n",
              "    border-bottom-color: var(--fill-color);\n",
              "    animation:\n",
              "      spin 1s steps(1) infinite;\n",
              "  }\n",
              "\n",
              "  @keyframes spin {\n",
              "    0% {\n",
              "      border-color: transparent;\n",
              "      border-bottom-color: var(--fill-color);\n",
              "      border-left-color: var(--fill-color);\n",
              "    }\n",
              "    20% {\n",
              "      border-color: transparent;\n",
              "      border-left-color: var(--fill-color);\n",
              "      border-top-color: var(--fill-color);\n",
              "    }\n",
              "    30% {\n",
              "      border-color: transparent;\n",
              "      border-left-color: var(--fill-color);\n",
              "      border-top-color: var(--fill-color);\n",
              "      border-right-color: var(--fill-color);\n",
              "    }\n",
              "    40% {\n",
              "      border-color: transparent;\n",
              "      border-right-color: var(--fill-color);\n",
              "      border-top-color: var(--fill-color);\n",
              "    }\n",
              "    60% {\n",
              "      border-color: transparent;\n",
              "      border-right-color: var(--fill-color);\n",
              "    }\n",
              "    80% {\n",
              "      border-color: transparent;\n",
              "      border-right-color: var(--fill-color);\n",
              "      border-bottom-color: var(--fill-color);\n",
              "    }\n",
              "    90% {\n",
              "      border-color: transparent;\n",
              "      border-bottom-color: var(--fill-color);\n",
              "    }\n",
              "  }\n",
              "</style>\n",
              "\n",
              "  <script>\n",
              "    async function quickchart(key) {\n",
              "      const quickchartButtonEl =\n",
              "        document.querySelector('#' + key + ' button');\n",
              "      quickchartButtonEl.disabled = true;  // To prevent multiple clicks.\n",
              "      quickchartButtonEl.classList.add('colab-df-spinner');\n",
              "      try {\n",
              "        const charts = await google.colab.kernel.invokeFunction(\n",
              "            'suggestCharts', [key], {});\n",
              "      } catch (error) {\n",
              "        console.error('Error during call to suggestCharts:', error);\n",
              "      }\n",
              "      quickchartButtonEl.classList.remove('colab-df-spinner');\n",
              "      quickchartButtonEl.classList.add('colab-df-quickchart-complete');\n",
              "    }\n",
              "    (() => {\n",
              "      let quickchartButtonEl =\n",
              "        document.querySelector('#df-b7221889-4d0e-47d5-81af-4562a7b65888 button');\n",
              "      quickchartButtonEl.style.display =\n",
              "        google.colab.kernel.accessAllowed ? 'block' : 'none';\n",
              "    })();\n",
              "  </script>\n",
              "</div>\n",
              "\n",
              "    </div>\n",
              "  </div>\n"
            ],
            "application/vnd.google.colaboratory.intrinsic+json": {
              "type": "dataframe",
              "variable_name": "df_combined"
            }
          },
          "metadata": {},
          "execution_count": 11
        }
      ]
    },
    {
      "cell_type": "code",
      "source": [
        "df_combined.shape"
      ],
      "metadata": {
        "colab": {
          "base_uri": "https://localhost:8080/"
        },
        "id": "Nd47cNqY36mj",
        "outputId": "f8665df1-c58c-4806-e65c-1a64e65205e6"
      },
      "execution_count": null,
      "outputs": [
        {
          "output_type": "execute_result",
          "data": {
            "text/plain": [
              "(1090167, 3)"
            ]
          },
          "metadata": {},
          "execution_count": 12
        }
      ]
    },
    {
      "cell_type": "code",
      "source": [
        "df_c = df_combined.copy()"
      ],
      "metadata": {
        "id": "K9jo-NDhIYlG"
      },
      "execution_count": null,
      "outputs": []
    },
    {
      "cell_type": "code",
      "source": [
        "df_c .columns"
      ],
      "metadata": {
        "colab": {
          "base_uri": "https://localhost:8080/"
        },
        "id": "1hTW5NyJIhqL",
        "outputId": "efff5d9e-05eb-4fae-fca0-467adc2014b2"
      },
      "execution_count": null,
      "outputs": [
        {
          "output_type": "execute_result",
          "data": {
            "text/plain": [
              "Index(['Datetime', 'MW', 'company'], dtype='object')"
            ]
          },
          "metadata": {},
          "execution_count": 14
        }
      ]
    },
    {
      "cell_type": "markdown",
      "source": [
        "## 1.2 Check dataset type and statistical breakdown\n",
        "By Yian"
      ],
      "metadata": {
        "id": "qn35k3VRsHtC"
      }
    },
    {
      "cell_type": "code",
      "source": [
        "df_c .info()"
      ],
      "metadata": {
        "colab": {
          "base_uri": "https://localhost:8080/"
        },
        "id": "fdW3rBLrIiej",
        "outputId": "f886bcf4-c201-4036-8cb7-1e9861a8b8cb"
      },
      "execution_count": null,
      "outputs": [
        {
          "output_type": "stream",
          "name": "stdout",
          "text": [
            "<class 'pandas.core.frame.DataFrame'>\n",
            "RangeIndex: 1090167 entries, 0 to 1090166\n",
            "Data columns (total 3 columns):\n",
            " #   Column    Non-Null Count    Dtype  \n",
            "---  ------    --------------    -----  \n",
            " 0   Datetime  1090167 non-null  object \n",
            " 1   MW        1090167 non-null  float64\n",
            " 2   company   1090167 non-null  object \n",
            "dtypes: float64(1), object(2)\n",
            "memory usage: 25.0+ MB\n"
          ]
        }
      ]
    },
    {
      "cell_type": "code",
      "source": [
        "df_c .describe()"
      ],
      "metadata": {
        "colab": {
          "base_uri": "https://localhost:8080/",
          "height": 300
        },
        "id": "QdLOTHQ9ItTd",
        "outputId": "d67572cd-0a25-4988-dd0b-59a08289e379"
      },
      "execution_count": null,
      "outputs": [
        {
          "output_type": "execute_result",
          "data": {
            "text/plain": [
              "                 MW\n",
              "count  1.090167e+06\n",
              "mean   1.120959e+04\n",
              "std    1.053440e+04\n",
              "min    0.000000e+00\n",
              "25%    2.455000e+03\n",
              "50%    8.217000e+03\n",
              "75%    1.466500e+04\n",
              "max    6.200900e+04"
            ],
            "text/html": [
              "\n",
              "  <div id=\"df-f0a67660-b095-43f7-a162-cf2c492d845b\" class=\"colab-df-container\">\n",
              "    <div>\n",
              "<style scoped>\n",
              "    .dataframe tbody tr th:only-of-type {\n",
              "        vertical-align: middle;\n",
              "    }\n",
              "\n",
              "    .dataframe tbody tr th {\n",
              "        vertical-align: top;\n",
              "    }\n",
              "\n",
              "    .dataframe thead th {\n",
              "        text-align: right;\n",
              "    }\n",
              "</style>\n",
              "<table border=\"1\" class=\"dataframe\">\n",
              "  <thead>\n",
              "    <tr style=\"text-align: right;\">\n",
              "      <th></th>\n",
              "      <th>MW</th>\n",
              "    </tr>\n",
              "  </thead>\n",
              "  <tbody>\n",
              "    <tr>\n",
              "      <th>count</th>\n",
              "      <td>1.090167e+06</td>\n",
              "    </tr>\n",
              "    <tr>\n",
              "      <th>mean</th>\n",
              "      <td>1.120959e+04</td>\n",
              "    </tr>\n",
              "    <tr>\n",
              "      <th>std</th>\n",
              "      <td>1.053440e+04</td>\n",
              "    </tr>\n",
              "    <tr>\n",
              "      <th>min</th>\n",
              "      <td>0.000000e+00</td>\n",
              "    </tr>\n",
              "    <tr>\n",
              "      <th>25%</th>\n",
              "      <td>2.455000e+03</td>\n",
              "    </tr>\n",
              "    <tr>\n",
              "      <th>50%</th>\n",
              "      <td>8.217000e+03</td>\n",
              "    </tr>\n",
              "    <tr>\n",
              "      <th>75%</th>\n",
              "      <td>1.466500e+04</td>\n",
              "    </tr>\n",
              "    <tr>\n",
              "      <th>max</th>\n",
              "      <td>6.200900e+04</td>\n",
              "    </tr>\n",
              "  </tbody>\n",
              "</table>\n",
              "</div>\n",
              "    <div class=\"colab-df-buttons\">\n",
              "\n",
              "  <div class=\"colab-df-container\">\n",
              "    <button class=\"colab-df-convert\" onclick=\"convertToInteractive('df-f0a67660-b095-43f7-a162-cf2c492d845b')\"\n",
              "            title=\"Convert this dataframe to an interactive table.\"\n",
              "            style=\"display:none;\">\n",
              "\n",
              "  <svg xmlns=\"http://www.w3.org/2000/svg\" height=\"24px\" viewBox=\"0 -960 960 960\">\n",
              "    <path d=\"M120-120v-720h720v720H120Zm60-500h600v-160H180v160Zm220 220h160v-160H400v160Zm0 220h160v-160H400v160ZM180-400h160v-160H180v160Zm440 0h160v-160H620v160ZM180-180h160v-160H180v160Zm440 0h160v-160H620v160Z\"/>\n",
              "  </svg>\n",
              "    </button>\n",
              "\n",
              "  <style>\n",
              "    .colab-df-container {\n",
              "      display:flex;\n",
              "      gap: 12px;\n",
              "    }\n",
              "\n",
              "    .colab-df-convert {\n",
              "      background-color: #E8F0FE;\n",
              "      border: none;\n",
              "      border-radius: 50%;\n",
              "      cursor: pointer;\n",
              "      display: none;\n",
              "      fill: #1967D2;\n",
              "      height: 32px;\n",
              "      padding: 0 0 0 0;\n",
              "      width: 32px;\n",
              "    }\n",
              "\n",
              "    .colab-df-convert:hover {\n",
              "      background-color: #E2EBFA;\n",
              "      box-shadow: 0px 1px 2px rgba(60, 64, 67, 0.3), 0px 1px 3px 1px rgba(60, 64, 67, 0.15);\n",
              "      fill: #174EA6;\n",
              "    }\n",
              "\n",
              "    .colab-df-buttons div {\n",
              "      margin-bottom: 4px;\n",
              "    }\n",
              "\n",
              "    [theme=dark] .colab-df-convert {\n",
              "      background-color: #3B4455;\n",
              "      fill: #D2E3FC;\n",
              "    }\n",
              "\n",
              "    [theme=dark] .colab-df-convert:hover {\n",
              "      background-color: #434B5C;\n",
              "      box-shadow: 0px 1px 3px 1px rgba(0, 0, 0, 0.15);\n",
              "      filter: drop-shadow(0px 1px 2px rgba(0, 0, 0, 0.3));\n",
              "      fill: #FFFFFF;\n",
              "    }\n",
              "  </style>\n",
              "\n",
              "    <script>\n",
              "      const buttonEl =\n",
              "        document.querySelector('#df-f0a67660-b095-43f7-a162-cf2c492d845b button.colab-df-convert');\n",
              "      buttonEl.style.display =\n",
              "        google.colab.kernel.accessAllowed ? 'block' : 'none';\n",
              "\n",
              "      async function convertToInteractive(key) {\n",
              "        const element = document.querySelector('#df-f0a67660-b095-43f7-a162-cf2c492d845b');\n",
              "        const dataTable =\n",
              "          await google.colab.kernel.invokeFunction('convertToInteractive',\n",
              "                                                    [key], {});\n",
              "        if (!dataTable) return;\n",
              "\n",
              "        const docLinkHtml = 'Like what you see? Visit the ' +\n",
              "          '<a target=\"_blank\" href=https://colab.research.google.com/notebooks/data_table.ipynb>data table notebook</a>'\n",
              "          + ' to learn more about interactive tables.';\n",
              "        element.innerHTML = '';\n",
              "        dataTable['output_type'] = 'display_data';\n",
              "        await google.colab.output.renderOutput(dataTable, element);\n",
              "        const docLink = document.createElement('div');\n",
              "        docLink.innerHTML = docLinkHtml;\n",
              "        element.appendChild(docLink);\n",
              "      }\n",
              "    </script>\n",
              "  </div>\n",
              "\n",
              "\n",
              "<div id=\"df-4331cbbb-3844-427d-88dd-29f91abb71d4\">\n",
              "  <button class=\"colab-df-quickchart\" onclick=\"quickchart('df-4331cbbb-3844-427d-88dd-29f91abb71d4')\"\n",
              "            title=\"Suggest charts\"\n",
              "            style=\"display:none;\">\n",
              "\n",
              "<svg xmlns=\"http://www.w3.org/2000/svg\" height=\"24px\"viewBox=\"0 0 24 24\"\n",
              "     width=\"24px\">\n",
              "    <g>\n",
              "        <path d=\"M19 3H5c-1.1 0-2 .9-2 2v14c0 1.1.9 2 2 2h14c1.1 0 2-.9 2-2V5c0-1.1-.9-2-2-2zM9 17H7v-7h2v7zm4 0h-2V7h2v10zm4 0h-2v-4h2v4z\"/>\n",
              "    </g>\n",
              "</svg>\n",
              "  </button>\n",
              "\n",
              "<style>\n",
              "  .colab-df-quickchart {\n",
              "      --bg-color: #E8F0FE;\n",
              "      --fill-color: #1967D2;\n",
              "      --hover-bg-color: #E2EBFA;\n",
              "      --hover-fill-color: #174EA6;\n",
              "      --disabled-fill-color: #AAA;\n",
              "      --disabled-bg-color: #DDD;\n",
              "  }\n",
              "\n",
              "  [theme=dark] .colab-df-quickchart {\n",
              "      --bg-color: #3B4455;\n",
              "      --fill-color: #D2E3FC;\n",
              "      --hover-bg-color: #434B5C;\n",
              "      --hover-fill-color: #FFFFFF;\n",
              "      --disabled-bg-color: #3B4455;\n",
              "      --disabled-fill-color: #666;\n",
              "  }\n",
              "\n",
              "  .colab-df-quickchart {\n",
              "    background-color: var(--bg-color);\n",
              "    border: none;\n",
              "    border-radius: 50%;\n",
              "    cursor: pointer;\n",
              "    display: none;\n",
              "    fill: var(--fill-color);\n",
              "    height: 32px;\n",
              "    padding: 0;\n",
              "    width: 32px;\n",
              "  }\n",
              "\n",
              "  .colab-df-quickchart:hover {\n",
              "    background-color: var(--hover-bg-color);\n",
              "    box-shadow: 0 1px 2px rgba(60, 64, 67, 0.3), 0 1px 3px 1px rgba(60, 64, 67, 0.15);\n",
              "    fill: var(--button-hover-fill-color);\n",
              "  }\n",
              "\n",
              "  .colab-df-quickchart-complete:disabled,\n",
              "  .colab-df-quickchart-complete:disabled:hover {\n",
              "    background-color: var(--disabled-bg-color);\n",
              "    fill: var(--disabled-fill-color);\n",
              "    box-shadow: none;\n",
              "  }\n",
              "\n",
              "  .colab-df-spinner {\n",
              "    border: 2px solid var(--fill-color);\n",
              "    border-color: transparent;\n",
              "    border-bottom-color: var(--fill-color);\n",
              "    animation:\n",
              "      spin 1s steps(1) infinite;\n",
              "  }\n",
              "\n",
              "  @keyframes spin {\n",
              "    0% {\n",
              "      border-color: transparent;\n",
              "      border-bottom-color: var(--fill-color);\n",
              "      border-left-color: var(--fill-color);\n",
              "    }\n",
              "    20% {\n",
              "      border-color: transparent;\n",
              "      border-left-color: var(--fill-color);\n",
              "      border-top-color: var(--fill-color);\n",
              "    }\n",
              "    30% {\n",
              "      border-color: transparent;\n",
              "      border-left-color: var(--fill-color);\n",
              "      border-top-color: var(--fill-color);\n",
              "      border-right-color: var(--fill-color);\n",
              "    }\n",
              "    40% {\n",
              "      border-color: transparent;\n",
              "      border-right-color: var(--fill-color);\n",
              "      border-top-color: var(--fill-color);\n",
              "    }\n",
              "    60% {\n",
              "      border-color: transparent;\n",
              "      border-right-color: var(--fill-color);\n",
              "    }\n",
              "    80% {\n",
              "      border-color: transparent;\n",
              "      border-right-color: var(--fill-color);\n",
              "      border-bottom-color: var(--fill-color);\n",
              "    }\n",
              "    90% {\n",
              "      border-color: transparent;\n",
              "      border-bottom-color: var(--fill-color);\n",
              "    }\n",
              "  }\n",
              "</style>\n",
              "\n",
              "  <script>\n",
              "    async function quickchart(key) {\n",
              "      const quickchartButtonEl =\n",
              "        document.querySelector('#' + key + ' button');\n",
              "      quickchartButtonEl.disabled = true;  // To prevent multiple clicks.\n",
              "      quickchartButtonEl.classList.add('colab-df-spinner');\n",
              "      try {\n",
              "        const charts = await google.colab.kernel.invokeFunction(\n",
              "            'suggestCharts', [key], {});\n",
              "      } catch (error) {\n",
              "        console.error('Error during call to suggestCharts:', error);\n",
              "      }\n",
              "      quickchartButtonEl.classList.remove('colab-df-spinner');\n",
              "      quickchartButtonEl.classList.add('colab-df-quickchart-complete');\n",
              "    }\n",
              "    (() => {\n",
              "      let quickchartButtonEl =\n",
              "        document.querySelector('#df-4331cbbb-3844-427d-88dd-29f91abb71d4 button');\n",
              "      quickchartButtonEl.style.display =\n",
              "        google.colab.kernel.accessAllowed ? 'block' : 'none';\n",
              "    })();\n",
              "  </script>\n",
              "</div>\n",
              "\n",
              "    </div>\n",
              "  </div>\n"
            ],
            "application/vnd.google.colaboratory.intrinsic+json": {
              "type": "dataframe",
              "summary": "{\n  \"name\": \"df_c \",\n  \"rows\": 8,\n  \"fields\": [\n    {\n      \"column\": \"MW\",\n      \"properties\": {\n        \"dtype\": \"number\",\n        \"std\": 380424.06324977847,\n        \"min\": 0.0,\n        \"max\": 1090167.0,\n        \"num_unique_values\": 8,\n        \"samples\": [\n          11209.588650179285,\n          8217.0,\n          1090167.0\n        ],\n        \"semantic_type\": \"\",\n        \"description\": \"\"\n      }\n    }\n  ]\n}"
            }
          },
          "metadata": {},
          "execution_count": 16
        }
      ]
    },
    {
      "cell_type": "markdown",
      "source": [
        "### Check if there are null values"
      ],
      "metadata": {
        "id": "uQb7SbwDsBnq"
      }
    },
    {
      "cell_type": "code",
      "source": [
        "# no null values in dataset\n",
        "df_c .isna().sum()"
      ],
      "metadata": {
        "colab": {
          "base_uri": "https://localhost:8080/",
          "height": 178
        },
        "id": "mqYxk9onKruK",
        "outputId": "35b2c600-ed3b-40eb-e459-42099547f439"
      },
      "execution_count": null,
      "outputs": [
        {
          "output_type": "execute_result",
          "data": {
            "text/plain": [
              "Datetime    0\n",
              "MW          0\n",
              "company     0\n",
              "dtype: int64"
            ],
            "text/html": [
              "<div>\n",
              "<style scoped>\n",
              "    .dataframe tbody tr th:only-of-type {\n",
              "        vertical-align: middle;\n",
              "    }\n",
              "\n",
              "    .dataframe tbody tr th {\n",
              "        vertical-align: top;\n",
              "    }\n",
              "\n",
              "    .dataframe thead th {\n",
              "        text-align: right;\n",
              "    }\n",
              "</style>\n",
              "<table border=\"1\" class=\"dataframe\">\n",
              "  <thead>\n",
              "    <tr style=\"text-align: right;\">\n",
              "      <th></th>\n",
              "      <th>0</th>\n",
              "    </tr>\n",
              "  </thead>\n",
              "  <tbody>\n",
              "    <tr>\n",
              "      <th>Datetime</th>\n",
              "      <td>0</td>\n",
              "    </tr>\n",
              "    <tr>\n",
              "      <th>MW</th>\n",
              "      <td>0</td>\n",
              "    </tr>\n",
              "    <tr>\n",
              "      <th>company</th>\n",
              "      <td>0</td>\n",
              "    </tr>\n",
              "  </tbody>\n",
              "</table>\n",
              "</div><br><label><b>dtype:</b> int64</label>"
            ]
          },
          "metadata": {},
          "execution_count": 17
        }
      ]
    },
    {
      "cell_type": "markdown",
      "source": [],
      "metadata": {
        "id": "qMn-oIgqr_KC"
      }
    },
    {
      "cell_type": "markdown",
      "source": [
        "## 1.4 Separate categorical from numerical attributes for data visualization\n",
        "By Yian"
      ],
      "metadata": {
        "id": "I8tnlWtXtIKW"
      }
    },
    {
      "cell_type": "code",
      "source": [
        "numerical_attributes = df_c .select_dtypes( include=['float64'] )\n",
        "numerical_attributes.head()"
      ],
      "metadata": {
        "colab": {
          "base_uri": "https://localhost:8080/",
          "height": 206
        },
        "id": "eqa607yerCOg",
        "outputId": "0c8c2c2a-b688-458b-ba86-8beb2a1c7760"
      },
      "execution_count": null,
      "outputs": [
        {
          "output_type": "execute_result",
          "data": {
            "text/plain": [
              "        MW\n",
              "0  13478.0\n",
              "1  12865.0\n",
              "2  12577.0\n",
              "3  12517.0\n",
              "4  12670.0"
            ],
            "text/html": [
              "\n",
              "  <div id=\"df-61c54550-c0b6-49ce-ba1d-ccfcae4dba81\" class=\"colab-df-container\">\n",
              "    <div>\n",
              "<style scoped>\n",
              "    .dataframe tbody tr th:only-of-type {\n",
              "        vertical-align: middle;\n",
              "    }\n",
              "\n",
              "    .dataframe tbody tr th {\n",
              "        vertical-align: top;\n",
              "    }\n",
              "\n",
              "    .dataframe thead th {\n",
              "        text-align: right;\n",
              "    }\n",
              "</style>\n",
              "<table border=\"1\" class=\"dataframe\">\n",
              "  <thead>\n",
              "    <tr style=\"text-align: right;\">\n",
              "      <th></th>\n",
              "      <th>MW</th>\n",
              "    </tr>\n",
              "  </thead>\n",
              "  <tbody>\n",
              "    <tr>\n",
              "      <th>0</th>\n",
              "      <td>13478.0</td>\n",
              "    </tr>\n",
              "    <tr>\n",
              "      <th>1</th>\n",
              "      <td>12865.0</td>\n",
              "    </tr>\n",
              "    <tr>\n",
              "      <th>2</th>\n",
              "      <td>12577.0</td>\n",
              "    </tr>\n",
              "    <tr>\n",
              "      <th>3</th>\n",
              "      <td>12517.0</td>\n",
              "    </tr>\n",
              "    <tr>\n",
              "      <th>4</th>\n",
              "      <td>12670.0</td>\n",
              "    </tr>\n",
              "  </tbody>\n",
              "</table>\n",
              "</div>\n",
              "    <div class=\"colab-df-buttons\">\n",
              "\n",
              "  <div class=\"colab-df-container\">\n",
              "    <button class=\"colab-df-convert\" onclick=\"convertToInteractive('df-61c54550-c0b6-49ce-ba1d-ccfcae4dba81')\"\n",
              "            title=\"Convert this dataframe to an interactive table.\"\n",
              "            style=\"display:none;\">\n",
              "\n",
              "  <svg xmlns=\"http://www.w3.org/2000/svg\" height=\"24px\" viewBox=\"0 -960 960 960\">\n",
              "    <path d=\"M120-120v-720h720v720H120Zm60-500h600v-160H180v160Zm220 220h160v-160H400v160Zm0 220h160v-160H400v160ZM180-400h160v-160H180v160Zm440 0h160v-160H620v160ZM180-180h160v-160H180v160Zm440 0h160v-160H620v160Z\"/>\n",
              "  </svg>\n",
              "    </button>\n",
              "\n",
              "  <style>\n",
              "    .colab-df-container {\n",
              "      display:flex;\n",
              "      gap: 12px;\n",
              "    }\n",
              "\n",
              "    .colab-df-convert {\n",
              "      background-color: #E8F0FE;\n",
              "      border: none;\n",
              "      border-radius: 50%;\n",
              "      cursor: pointer;\n",
              "      display: none;\n",
              "      fill: #1967D2;\n",
              "      height: 32px;\n",
              "      padding: 0 0 0 0;\n",
              "      width: 32px;\n",
              "    }\n",
              "\n",
              "    .colab-df-convert:hover {\n",
              "      background-color: #E2EBFA;\n",
              "      box-shadow: 0px 1px 2px rgba(60, 64, 67, 0.3), 0px 1px 3px 1px rgba(60, 64, 67, 0.15);\n",
              "      fill: #174EA6;\n",
              "    }\n",
              "\n",
              "    .colab-df-buttons div {\n",
              "      margin-bottom: 4px;\n",
              "    }\n",
              "\n",
              "    [theme=dark] .colab-df-convert {\n",
              "      background-color: #3B4455;\n",
              "      fill: #D2E3FC;\n",
              "    }\n",
              "\n",
              "    [theme=dark] .colab-df-convert:hover {\n",
              "      background-color: #434B5C;\n",
              "      box-shadow: 0px 1px 3px 1px rgba(0, 0, 0, 0.15);\n",
              "      filter: drop-shadow(0px 1px 2px rgba(0, 0, 0, 0.3));\n",
              "      fill: #FFFFFF;\n",
              "    }\n",
              "  </style>\n",
              "\n",
              "    <script>\n",
              "      const buttonEl =\n",
              "        document.querySelector('#df-61c54550-c0b6-49ce-ba1d-ccfcae4dba81 button.colab-df-convert');\n",
              "      buttonEl.style.display =\n",
              "        google.colab.kernel.accessAllowed ? 'block' : 'none';\n",
              "\n",
              "      async function convertToInteractive(key) {\n",
              "        const element = document.querySelector('#df-61c54550-c0b6-49ce-ba1d-ccfcae4dba81');\n",
              "        const dataTable =\n",
              "          await google.colab.kernel.invokeFunction('convertToInteractive',\n",
              "                                                    [key], {});\n",
              "        if (!dataTable) return;\n",
              "\n",
              "        const docLinkHtml = 'Like what you see? Visit the ' +\n",
              "          '<a target=\"_blank\" href=https://colab.research.google.com/notebooks/data_table.ipynb>data table notebook</a>'\n",
              "          + ' to learn more about interactive tables.';\n",
              "        element.innerHTML = '';\n",
              "        dataTable['output_type'] = 'display_data';\n",
              "        await google.colab.output.renderOutput(dataTable, element);\n",
              "        const docLink = document.createElement('div');\n",
              "        docLink.innerHTML = docLinkHtml;\n",
              "        element.appendChild(docLink);\n",
              "      }\n",
              "    </script>\n",
              "  </div>\n",
              "\n",
              "\n",
              "<div id=\"df-ee52a34e-6bd0-4954-ace3-25fe8e3a680d\">\n",
              "  <button class=\"colab-df-quickchart\" onclick=\"quickchart('df-ee52a34e-6bd0-4954-ace3-25fe8e3a680d')\"\n",
              "            title=\"Suggest charts\"\n",
              "            style=\"display:none;\">\n",
              "\n",
              "<svg xmlns=\"http://www.w3.org/2000/svg\" height=\"24px\"viewBox=\"0 0 24 24\"\n",
              "     width=\"24px\">\n",
              "    <g>\n",
              "        <path d=\"M19 3H5c-1.1 0-2 .9-2 2v14c0 1.1.9 2 2 2h14c1.1 0 2-.9 2-2V5c0-1.1-.9-2-2-2zM9 17H7v-7h2v7zm4 0h-2V7h2v10zm4 0h-2v-4h2v4z\"/>\n",
              "    </g>\n",
              "</svg>\n",
              "  </button>\n",
              "\n",
              "<style>\n",
              "  .colab-df-quickchart {\n",
              "      --bg-color: #E8F0FE;\n",
              "      --fill-color: #1967D2;\n",
              "      --hover-bg-color: #E2EBFA;\n",
              "      --hover-fill-color: #174EA6;\n",
              "      --disabled-fill-color: #AAA;\n",
              "      --disabled-bg-color: #DDD;\n",
              "  }\n",
              "\n",
              "  [theme=dark] .colab-df-quickchart {\n",
              "      --bg-color: #3B4455;\n",
              "      --fill-color: #D2E3FC;\n",
              "      --hover-bg-color: #434B5C;\n",
              "      --hover-fill-color: #FFFFFF;\n",
              "      --disabled-bg-color: #3B4455;\n",
              "      --disabled-fill-color: #666;\n",
              "  }\n",
              "\n",
              "  .colab-df-quickchart {\n",
              "    background-color: var(--bg-color);\n",
              "    border: none;\n",
              "    border-radius: 50%;\n",
              "    cursor: pointer;\n",
              "    display: none;\n",
              "    fill: var(--fill-color);\n",
              "    height: 32px;\n",
              "    padding: 0;\n",
              "    width: 32px;\n",
              "  }\n",
              "\n",
              "  .colab-df-quickchart:hover {\n",
              "    background-color: var(--hover-bg-color);\n",
              "    box-shadow: 0 1px 2px rgba(60, 64, 67, 0.3), 0 1px 3px 1px rgba(60, 64, 67, 0.15);\n",
              "    fill: var(--button-hover-fill-color);\n",
              "  }\n",
              "\n",
              "  .colab-df-quickchart-complete:disabled,\n",
              "  .colab-df-quickchart-complete:disabled:hover {\n",
              "    background-color: var(--disabled-bg-color);\n",
              "    fill: var(--disabled-fill-color);\n",
              "    box-shadow: none;\n",
              "  }\n",
              "\n",
              "  .colab-df-spinner {\n",
              "    border: 2px solid var(--fill-color);\n",
              "    border-color: transparent;\n",
              "    border-bottom-color: var(--fill-color);\n",
              "    animation:\n",
              "      spin 1s steps(1) infinite;\n",
              "  }\n",
              "\n",
              "  @keyframes spin {\n",
              "    0% {\n",
              "      border-color: transparent;\n",
              "      border-bottom-color: var(--fill-color);\n",
              "      border-left-color: var(--fill-color);\n",
              "    }\n",
              "    20% {\n",
              "      border-color: transparent;\n",
              "      border-left-color: var(--fill-color);\n",
              "      border-top-color: var(--fill-color);\n",
              "    }\n",
              "    30% {\n",
              "      border-color: transparent;\n",
              "      border-left-color: var(--fill-color);\n",
              "      border-top-color: var(--fill-color);\n",
              "      border-right-color: var(--fill-color);\n",
              "    }\n",
              "    40% {\n",
              "      border-color: transparent;\n",
              "      border-right-color: var(--fill-color);\n",
              "      border-top-color: var(--fill-color);\n",
              "    }\n",
              "    60% {\n",
              "      border-color: transparent;\n",
              "      border-right-color: var(--fill-color);\n",
              "    }\n",
              "    80% {\n",
              "      border-color: transparent;\n",
              "      border-right-color: var(--fill-color);\n",
              "      border-bottom-color: var(--fill-color);\n",
              "    }\n",
              "    90% {\n",
              "      border-color: transparent;\n",
              "      border-bottom-color: var(--fill-color);\n",
              "    }\n",
              "  }\n",
              "</style>\n",
              "\n",
              "  <script>\n",
              "    async function quickchart(key) {\n",
              "      const quickchartButtonEl =\n",
              "        document.querySelector('#' + key + ' button');\n",
              "      quickchartButtonEl.disabled = true;  // To prevent multiple clicks.\n",
              "      quickchartButtonEl.classList.add('colab-df-spinner');\n",
              "      try {\n",
              "        const charts = await google.colab.kernel.invokeFunction(\n",
              "            'suggestCharts', [key], {});\n",
              "      } catch (error) {\n",
              "        console.error('Error during call to suggestCharts:', error);\n",
              "      }\n",
              "      quickchartButtonEl.classList.remove('colab-df-spinner');\n",
              "      quickchartButtonEl.classList.add('colab-df-quickchart-complete');\n",
              "    }\n",
              "    (() => {\n",
              "      let quickchartButtonEl =\n",
              "        document.querySelector('#df-ee52a34e-6bd0-4954-ace3-25fe8e3a680d button');\n",
              "      quickchartButtonEl.style.display =\n",
              "        google.colab.kernel.accessAllowed ? 'block' : 'none';\n",
              "    })();\n",
              "  </script>\n",
              "</div>\n",
              "\n",
              "    </div>\n",
              "  </div>\n"
            ],
            "application/vnd.google.colaboratory.intrinsic+json": {
              "type": "dataframe",
              "variable_name": "numerical_attributes"
            }
          },
          "metadata": {},
          "execution_count": 18
        }
      ]
    },
    {
      "cell_type": "code",
      "source": [
        "categorical_attributes = df_c [\"company\"]\n",
        "categorical_attributes.head()"
      ],
      "metadata": {
        "colab": {
          "base_uri": "https://localhost:8080/",
          "height": 241
        },
        "id": "UQ0wg1FlrQzw",
        "outputId": "00f5e375-3941-400e-e162-3e6a4d5255ad"
      },
      "execution_count": null,
      "outputs": [
        {
          "output_type": "execute_result",
          "data": {
            "text/plain": [
              "0    AEP_MW\n",
              "1    AEP_MW\n",
              "2    AEP_MW\n",
              "3    AEP_MW\n",
              "4    AEP_MW\n",
              "Name: company, dtype: object"
            ],
            "text/html": [
              "<div>\n",
              "<style scoped>\n",
              "    .dataframe tbody tr th:only-of-type {\n",
              "        vertical-align: middle;\n",
              "    }\n",
              "\n",
              "    .dataframe tbody tr th {\n",
              "        vertical-align: top;\n",
              "    }\n",
              "\n",
              "    .dataframe thead th {\n",
              "        text-align: right;\n",
              "    }\n",
              "</style>\n",
              "<table border=\"1\" class=\"dataframe\">\n",
              "  <thead>\n",
              "    <tr style=\"text-align: right;\">\n",
              "      <th></th>\n",
              "      <th>company</th>\n",
              "    </tr>\n",
              "  </thead>\n",
              "  <tbody>\n",
              "    <tr>\n",
              "      <th>0</th>\n",
              "      <td>AEP_MW</td>\n",
              "    </tr>\n",
              "    <tr>\n",
              "      <th>1</th>\n",
              "      <td>AEP_MW</td>\n",
              "    </tr>\n",
              "    <tr>\n",
              "      <th>2</th>\n",
              "      <td>AEP_MW</td>\n",
              "    </tr>\n",
              "    <tr>\n",
              "      <th>3</th>\n",
              "      <td>AEP_MW</td>\n",
              "    </tr>\n",
              "    <tr>\n",
              "      <th>4</th>\n",
              "      <td>AEP_MW</td>\n",
              "    </tr>\n",
              "  </tbody>\n",
              "</table>\n",
              "</div><br><label><b>dtype:</b> object</label>"
            ]
          },
          "metadata": {},
          "execution_count": 19
        }
      ]
    },
    {
      "cell_type": "markdown",
      "source": [
        "## 1.5 Data Analysis\n",
        "By Yian\n",
        "<br>\n",
        "Get the central tendency mean and median of the energy consumption dataset to check the typical data point. Check standard deviation, skewness and kurtosis of the dataset"
      ],
      "metadata": {
        "id": "KsM0k9g_vIDg"
      }
    },
    {
      "cell_type": "code",
      "source": [
        "num_att_mean = pd.DataFrame(numerical_attributes.apply(np.mean)).T\n",
        "num_att_median = pd.DataFrame(numerical_attributes.apply(np.median)).T\n",
        "d1 = pd.DataFrame(numerical_attributes.apply(np.std)).T # standard deviation\n",
        "d2 = pd.DataFrame(numerical_attributes.apply(min)).T\n",
        "d3 = pd.DataFrame(numerical_attributes.apply(max)).T\n",
        "d4 = pd.DataFrame(numerical_attributes.apply(lambda x: x.max() - x.min())).T # range\n",
        "d5 = pd.DataFrame(numerical_attributes.apply(lambda x: x.skew())).T # skewness\n",
        "d6 = pd.DataFrame(numerical_attributes.apply(lambda x: x.kurtosis())).T # kurtosis\n"
      ],
      "metadata": {
        "id": "TW7j3-9GsYuq"
      },
      "execution_count": null,
      "outputs": []
    },
    {
      "cell_type": "code",
      "source": [
        "stats_df = pd.concat([d1,d2,d3,d4,d5,d6,num_att_mean,num_att_median]).T"
      ],
      "metadata": {
        "id": "F_p8v_gRwfgG"
      },
      "execution_count": null,
      "outputs": []
    },
    {
      "cell_type": "code",
      "source": [
        "# rename columns\n",
        "stats_df.columns = [\"std\", \"min\", \"max\", \"range\", \"skew\", \"kurtosis\", \"mean\", \"median\"]"
      ],
      "metadata": {
        "id": "ENxspXN2w0rZ"
      },
      "execution_count": null,
      "outputs": []
    },
    {
      "cell_type": "code",
      "source": [
        "stats_df"
      ],
      "metadata": {
        "colab": {
          "base_uri": "https://localhost:8080/",
          "height": 89
        },
        "id": "6B5EJ3aEw_Al",
        "outputId": "d3c7cc8e-8176-4456-b2d8-63437f00a94b"
      },
      "execution_count": null,
      "outputs": [
        {
          "output_type": "execute_result",
          "data": {
            "text/plain": [
              "             std  min      max    range      skew  kurtosis         mean  \\\n",
              "MW  10534.394704  0.0  62009.0  62009.0  1.356423  1.198281  11209.58865   \n",
              "\n",
              "    median  \n",
              "MW  8217.0  "
            ],
            "text/html": [
              "\n",
              "  <div id=\"df-f346d8ec-32e1-4ca7-9208-b2486f530059\" class=\"colab-df-container\">\n",
              "    <div>\n",
              "<style scoped>\n",
              "    .dataframe tbody tr th:only-of-type {\n",
              "        vertical-align: middle;\n",
              "    }\n",
              "\n",
              "    .dataframe tbody tr th {\n",
              "        vertical-align: top;\n",
              "    }\n",
              "\n",
              "    .dataframe thead th {\n",
              "        text-align: right;\n",
              "    }\n",
              "</style>\n",
              "<table border=\"1\" class=\"dataframe\">\n",
              "  <thead>\n",
              "    <tr style=\"text-align: right;\">\n",
              "      <th></th>\n",
              "      <th>std</th>\n",
              "      <th>min</th>\n",
              "      <th>max</th>\n",
              "      <th>range</th>\n",
              "      <th>skew</th>\n",
              "      <th>kurtosis</th>\n",
              "      <th>mean</th>\n",
              "      <th>median</th>\n",
              "    </tr>\n",
              "  </thead>\n",
              "  <tbody>\n",
              "    <tr>\n",
              "      <th>MW</th>\n",
              "      <td>10534.394704</td>\n",
              "      <td>0.0</td>\n",
              "      <td>62009.0</td>\n",
              "      <td>62009.0</td>\n",
              "      <td>1.356423</td>\n",
              "      <td>1.198281</td>\n",
              "      <td>11209.58865</td>\n",
              "      <td>8217.0</td>\n",
              "    </tr>\n",
              "  </tbody>\n",
              "</table>\n",
              "</div>\n",
              "    <div class=\"colab-df-buttons\">\n",
              "\n",
              "  <div class=\"colab-df-container\">\n",
              "    <button class=\"colab-df-convert\" onclick=\"convertToInteractive('df-f346d8ec-32e1-4ca7-9208-b2486f530059')\"\n",
              "            title=\"Convert this dataframe to an interactive table.\"\n",
              "            style=\"display:none;\">\n",
              "\n",
              "  <svg xmlns=\"http://www.w3.org/2000/svg\" height=\"24px\" viewBox=\"0 -960 960 960\">\n",
              "    <path d=\"M120-120v-720h720v720H120Zm60-500h600v-160H180v160Zm220 220h160v-160H400v160Zm0 220h160v-160H400v160ZM180-400h160v-160H180v160Zm440 0h160v-160H620v160ZM180-180h160v-160H180v160Zm440 0h160v-160H620v160Z\"/>\n",
              "  </svg>\n",
              "    </button>\n",
              "\n",
              "  <style>\n",
              "    .colab-df-container {\n",
              "      display:flex;\n",
              "      gap: 12px;\n",
              "    }\n",
              "\n",
              "    .colab-df-convert {\n",
              "      background-color: #E8F0FE;\n",
              "      border: none;\n",
              "      border-radius: 50%;\n",
              "      cursor: pointer;\n",
              "      display: none;\n",
              "      fill: #1967D2;\n",
              "      height: 32px;\n",
              "      padding: 0 0 0 0;\n",
              "      width: 32px;\n",
              "    }\n",
              "\n",
              "    .colab-df-convert:hover {\n",
              "      background-color: #E2EBFA;\n",
              "      box-shadow: 0px 1px 2px rgba(60, 64, 67, 0.3), 0px 1px 3px 1px rgba(60, 64, 67, 0.15);\n",
              "      fill: #174EA6;\n",
              "    }\n",
              "\n",
              "    .colab-df-buttons div {\n",
              "      margin-bottom: 4px;\n",
              "    }\n",
              "\n",
              "    [theme=dark] .colab-df-convert {\n",
              "      background-color: #3B4455;\n",
              "      fill: #D2E3FC;\n",
              "    }\n",
              "\n",
              "    [theme=dark] .colab-df-convert:hover {\n",
              "      background-color: #434B5C;\n",
              "      box-shadow: 0px 1px 3px 1px rgba(0, 0, 0, 0.15);\n",
              "      filter: drop-shadow(0px 1px 2px rgba(0, 0, 0, 0.3));\n",
              "      fill: #FFFFFF;\n",
              "    }\n",
              "  </style>\n",
              "\n",
              "    <script>\n",
              "      const buttonEl =\n",
              "        document.querySelector('#df-f346d8ec-32e1-4ca7-9208-b2486f530059 button.colab-df-convert');\n",
              "      buttonEl.style.display =\n",
              "        google.colab.kernel.accessAllowed ? 'block' : 'none';\n",
              "\n",
              "      async function convertToInteractive(key) {\n",
              "        const element = document.querySelector('#df-f346d8ec-32e1-4ca7-9208-b2486f530059');\n",
              "        const dataTable =\n",
              "          await google.colab.kernel.invokeFunction('convertToInteractive',\n",
              "                                                    [key], {});\n",
              "        if (!dataTable) return;\n",
              "\n",
              "        const docLinkHtml = 'Like what you see? Visit the ' +\n",
              "          '<a target=\"_blank\" href=https://colab.research.google.com/notebooks/data_table.ipynb>data table notebook</a>'\n",
              "          + ' to learn more about interactive tables.';\n",
              "        element.innerHTML = '';\n",
              "        dataTable['output_type'] = 'display_data';\n",
              "        await google.colab.output.renderOutput(dataTable, element);\n",
              "        const docLink = document.createElement('div');\n",
              "        docLink.innerHTML = docLinkHtml;\n",
              "        element.appendChild(docLink);\n",
              "      }\n",
              "    </script>\n",
              "  </div>\n",
              "\n",
              "\n",
              "  <div id=\"id_0e407508-a64c-4fb4-83b2-d2b9697c04d9\">\n",
              "    <style>\n",
              "      .colab-df-generate {\n",
              "        background-color: #E8F0FE;\n",
              "        border: none;\n",
              "        border-radius: 50%;\n",
              "        cursor: pointer;\n",
              "        display: none;\n",
              "        fill: #1967D2;\n",
              "        height: 32px;\n",
              "        padding: 0 0 0 0;\n",
              "        width: 32px;\n",
              "      }\n",
              "\n",
              "      .colab-df-generate:hover {\n",
              "        background-color: #E2EBFA;\n",
              "        box-shadow: 0px 1px 2px rgba(60, 64, 67, 0.3), 0px 1px 3px 1px rgba(60, 64, 67, 0.15);\n",
              "        fill: #174EA6;\n",
              "      }\n",
              "\n",
              "      [theme=dark] .colab-df-generate {\n",
              "        background-color: #3B4455;\n",
              "        fill: #D2E3FC;\n",
              "      }\n",
              "\n",
              "      [theme=dark] .colab-df-generate:hover {\n",
              "        background-color: #434B5C;\n",
              "        box-shadow: 0px 1px 3px 1px rgba(0, 0, 0, 0.15);\n",
              "        filter: drop-shadow(0px 1px 2px rgba(0, 0, 0, 0.3));\n",
              "        fill: #FFFFFF;\n",
              "      }\n",
              "    </style>\n",
              "    <button class=\"colab-df-generate\" onclick=\"generateWithVariable('stats_df')\"\n",
              "            title=\"Generate code using this dataframe.\"\n",
              "            style=\"display:none;\">\n",
              "\n",
              "  <svg xmlns=\"http://www.w3.org/2000/svg\" height=\"24px\"viewBox=\"0 0 24 24\"\n",
              "       width=\"24px\">\n",
              "    <path d=\"M7,19H8.4L18.45,9,17,7.55,7,17.6ZM5,21V16.75L18.45,3.32a2,2,0,0,1,2.83,0l1.4,1.43a1.91,1.91,0,0,1,.58,1.4,1.91,1.91,0,0,1-.58,1.4L9.25,21ZM18.45,9,17,7.55Zm-12,3A5.31,5.31,0,0,0,4.9,8.1,5.31,5.31,0,0,0,1,6.5,5.31,5.31,0,0,0,4.9,4.9,5.31,5.31,0,0,0,6.5,1,5.31,5.31,0,0,0,8.1,4.9,5.31,5.31,0,0,0,12,6.5,5.46,5.46,0,0,0,6.5,12Z\"/>\n",
              "  </svg>\n",
              "    </button>\n",
              "    <script>\n",
              "      (() => {\n",
              "      const buttonEl =\n",
              "        document.querySelector('#id_0e407508-a64c-4fb4-83b2-d2b9697c04d9 button.colab-df-generate');\n",
              "      buttonEl.style.display =\n",
              "        google.colab.kernel.accessAllowed ? 'block' : 'none';\n",
              "\n",
              "      buttonEl.onclick = () => {\n",
              "        google.colab.notebook.generateWithVariable('stats_df');\n",
              "      }\n",
              "      })();\n",
              "    </script>\n",
              "  </div>\n",
              "\n",
              "    </div>\n",
              "  </div>\n"
            ],
            "application/vnd.google.colaboratory.intrinsic+json": {
              "type": "dataframe",
              "variable_name": "stats_df",
              "summary": "{\n  \"name\": \"stats_df\",\n  \"rows\": 1,\n  \"fields\": [\n    {\n      \"column\": \"std\",\n      \"properties\": {\n        \"dtype\": \"number\",\n        \"std\": null,\n        \"min\": 10534.394703789007,\n        \"max\": 10534.394703789007,\n        \"num_unique_values\": 1,\n        \"samples\": [\n          10534.394703789007\n        ],\n        \"semantic_type\": \"\",\n        \"description\": \"\"\n      }\n    },\n    {\n      \"column\": \"min\",\n      \"properties\": {\n        \"dtype\": \"number\",\n        \"std\": null,\n        \"min\": 0.0,\n        \"max\": 0.0,\n        \"num_unique_values\": 1,\n        \"samples\": [\n          0.0\n        ],\n        \"semantic_type\": \"\",\n        \"description\": \"\"\n      }\n    },\n    {\n      \"column\": \"max\",\n      \"properties\": {\n        \"dtype\": \"number\",\n        \"std\": null,\n        \"min\": 62009.0,\n        \"max\": 62009.0,\n        \"num_unique_values\": 1,\n        \"samples\": [\n          62009.0\n        ],\n        \"semantic_type\": \"\",\n        \"description\": \"\"\n      }\n    },\n    {\n      \"column\": \"range\",\n      \"properties\": {\n        \"dtype\": \"number\",\n        \"std\": null,\n        \"min\": 62009.0,\n        \"max\": 62009.0,\n        \"num_unique_values\": 1,\n        \"samples\": [\n          62009.0\n        ],\n        \"semantic_type\": \"\",\n        \"description\": \"\"\n      }\n    },\n    {\n      \"column\": \"skew\",\n      \"properties\": {\n        \"dtype\": \"number\",\n        \"std\": null,\n        \"min\": 1.356423142819272,\n        \"max\": 1.356423142819272,\n        \"num_unique_values\": 1,\n        \"samples\": [\n          1.356423142819272\n        ],\n        \"semantic_type\": \"\",\n        \"description\": \"\"\n      }\n    },\n    {\n      \"column\": \"kurtosis\",\n      \"properties\": {\n        \"dtype\": \"number\",\n        \"std\": null,\n        \"min\": 1.1982814588872657,\n        \"max\": 1.1982814588872657,\n        \"num_unique_values\": 1,\n        \"samples\": [\n          1.1982814588872657\n        ],\n        \"semantic_type\": \"\",\n        \"description\": \"\"\n      }\n    },\n    {\n      \"column\": \"mean\",\n      \"properties\": {\n        \"dtype\": \"number\",\n        \"std\": null,\n        \"min\": 11209.588650179285,\n        \"max\": 11209.588650179285,\n        \"num_unique_values\": 1,\n        \"samples\": [\n          11209.588650179285\n        ],\n        \"semantic_type\": \"\",\n        \"description\": \"\"\n      }\n    },\n    {\n      \"column\": \"median\",\n      \"properties\": {\n        \"dtype\": \"number\",\n        \"std\": null,\n        \"min\": 8217.0,\n        \"max\": 8217.0,\n        \"num_unique_values\": 1,\n        \"samples\": [\n          8217.0\n        ],\n        \"semantic_type\": \"\",\n        \"description\": \"\"\n      }\n    }\n  ]\n}"
            }
          },
          "metadata": {},
          "execution_count": 23
        }
      ]
    },
    {
      "cell_type": "markdown",
      "source": [
        "## 1.6 Check the distribution of the data\n",
        "By Yian"
      ],
      "metadata": {
        "id": "KWsdpF1-x7xz"
      }
    },
    {
      "cell_type": "code",
      "source": [
        "import seaborn as sns\n",
        "sns.histplot( df_c['MW'] )\n"
      ],
      "metadata": {
        "colab": {
          "base_uri": "https://localhost:8080/",
          "height": 466
        },
        "id": "Kw2Lg3OyxPmt",
        "outputId": "34c5d9c1-0c60-45fb-d09c-31353922a2c9"
      },
      "execution_count": null,
      "outputs": [
        {
          "output_type": "execute_result",
          "data": {
            "text/plain": [
              "<Axes: xlabel='MW', ylabel='Count'>"
            ]
          },
          "metadata": {},
          "execution_count": 25
        },
        {
          "output_type": "display_data",
          "data": {
            "text/plain": [
              "<Figure size 640x480 with 1 Axes>"
            ],
            "image/png": "[encoded data removed]"
          },
          "metadata": {}
        }
      ]
    },
    {
      "cell_type": "markdown",
      "source": [
        "## 1.7 Data Analysis\n",
        "By Yian\n",
        "<br>\n",
        "<br>\n",
        "From the histogram we can see the distribution of the data, which shows a right-skewed distribution. The high standard deviation (10534.39) also indicates a large spread and variability in the energy consumption values.  Most of the data points are concentrated in the lower range, with a long tail extending to the right. The right tail indicates some extreme outliers, where energy consumption is high in some cases on certain dates, pulling the distribution to the right. We shall analysis what are the causes of these outliers and apply normalization technique to help our predictive modeling. Beause our data has a high range and standard deviation, it is better to normalize the data first so our model can converge more efficiently when learning the patterns of the training data. The mean of the dataset is 11209.25, which is higher than the median (8217.00), which is also typical in right-skewed distribution in this case."
      ],
      "metadata": {
        "id": "7YNe2ps7x92A"
      }
    },
    {
      "cell_type": "code",
      "source": [
        "plt.figure(figsize=(14, 8))\n",
        "sns.boxplot( x=\"company\", y=\"MW\", data=df_c, palette=\"pastel\", hue=\"company\")\n",
        "plt.xticks(rotation=45, ha=\"right\", fontsize=10)\n",
        "plt.title(\"MW Distribution by Company\")\n",
        "plt.xlabel(\"Electric Company\")\n",
        "plt.ylabel(\"Energy Consumption in MW\")\n",
        "plt.show()"
      ],
      "metadata": {
        "colab": {
          "base_uri": "https://localhost:8080/",
          "height": 783
        },
        "id": "1Wbfq8Ne0b0Q",
        "outputId": "d399cf79-84a9-4f76-e950-7ae4d75b823a"
      },
      "execution_count": null,
      "outputs": [
        {
          "output_type": "display_data",
          "data": {
            "text/plain": [
              "<Figure size 1400x800 with 1 Axes>"
            ],
            "image/png": "[encoded data removed]"
          },
          "metadata": {}
        }
      ]
    },
    {
      "cell_type": "markdown",
      "source": [
        "## 1.8 Check how the data varies on daily, weekly and monthly basis\n",
        "by pranay\n"
      ],
      "metadata": {
        "id": "8utjw1ug5Kr8"
      }
    },
    {
      "cell_type": "code",
      "source": [
        "df1 = pjme.copy()\n",
        "df1 = df1.set_index('Datetime')\n",
        "df1.index = pd.to_datetime(df1.index)"
      ],
      "metadata": {
        "id": "d3LB37OP7Lp5",
        "colab": {
          "base_uri": "https://localhost:8080/",
          "height": 176
        },
        "outputId": "81defd00-8c2e-4239-d380-f068acacff1d"
      },
      "execution_count": 2,
      "outputs": [
        {
          "output_type": "error",
          "ename": "NameError",
          "evalue": "name 'pjme' is not defined",
          "traceback": [
            "\u001b[0;31m---------------------------------------------------------------------------\u001b[0m",
            "\u001b[0;31mNameError\u001b[0m                                 Traceback (most recent call last)",
            "\u001b[0;32m<ipython-input-2-c7685220e2a6>\u001b[0m in \u001b[0;36m<cell line: 1>\u001b[0;34m()\u001b[0m\n\u001b[0;32m----> 1\u001b[0;31m \u001b[0mdf1\u001b[0m \u001b[0;34m=\u001b[0m \u001b[0mpjme\u001b[0m\u001b[0;34m.\u001b[0m\u001b[0mcopy\u001b[0m\u001b[0;34m(\u001b[0m\u001b[0;34m)\u001b[0m\u001b[0;34m\u001b[0m\u001b[0;34m\u001b[0m\u001b[0m\n\u001b[0m\u001b[1;32m      2\u001b[0m \u001b[0mdf1\u001b[0m \u001b[0;34m=\u001b[0m \u001b[0mdf1\u001b[0m\u001b[0;34m.\u001b[0m\u001b[0mset_index\u001b[0m\u001b[0;34m(\u001b[0m\u001b[0;34m'Datetime'\u001b[0m\u001b[0;34m)\u001b[0m\u001b[0;34m\u001b[0m\u001b[0;34m\u001b[0m\u001b[0m\n\u001b[1;32m      3\u001b[0m \u001b[0mdf1\u001b[0m\u001b[0;34m.\u001b[0m\u001b[0mindex\u001b[0m \u001b[0;34m=\u001b[0m \u001b[0mpd\u001b[0m\u001b[0;34m.\u001b[0m\u001b[0mto_datetime\u001b[0m\u001b[0;34m(\u001b[0m\u001b[0mdf1\u001b[0m\u001b[0;34m.\u001b[0m\u001b[0mindex\u001b[0m\u001b[0;34m)\u001b[0m\u001b[0;34m\u001b[0m\u001b[0;34m\u001b[0m\u001b[0m\n",
            "\u001b[0;31mNameError\u001b[0m: name 'pjme' is not defined"
          ]
        }
      ]
    },
    {
      "cell_type": "code",
      "source": [
        "import seaborn as sns\n",
        "df1['hour'] = df1.index.hour\n",
        "df1['dayofweek'] = df1.index.dayofweek\n",
        "df1['quarter'] = df1.index.quarter\n",
        "df1['month'] = df1.index.month\n",
        "df1['year'] = df1.index.year\n",
        "df1['dayofyear'] = df1.index.dayofyear\n",
        "df1['dayofmonth'] = df1.index.day\n",
        "df1['weekofyear'] = df1.index.isocalendar().week\n",
        "print(df1.head())\n",
        "\n",
        "def create_features(df):\n",
        "    df['Datetime'] = pd.to_datetime(df['Datetime'])\n",
        "    df.set_index('Datetime', inplace=True)\n",
        "    df = df.copy()\n",
        "    df['hour'] = df.index.hour\n",
        "    df['dayofweek'] = df.index.dayofweek\n",
        "    df['quarter'] = df.index.quarter\n",
        "    df['month'] = df.index.month\n",
        "    df['year'] = df.index.year\n",
        "    df['dayofyear'] = df.index.dayofyear\n",
        "    df['dayofmonth'] = df.index.day\n",
        "    df['weekofyear'] = df.index.isocalendar().week\n",
        "    return df\n",
        "\n",
        "# df = create_features(df)"
      ],
      "metadata": {
        "colab": {
          "base_uri": "https://localhost:8080/",
          "height": 211
        },
        "id": "KqNi4twejoYC",
        "outputId": "088e75e0-e73e-49cb-ee2d-de29726e4f52"
      },
      "execution_count": 1,
      "outputs": [
        {
          "output_type": "error",
          "ename": "NameError",
          "evalue": "name 'df1' is not defined",
          "traceback": [
            "\u001b[0;31m---------------------------------------------------------------------------\u001b[0m",
            "\u001b[0;31mNameError\u001b[0m                                 Traceback (most recent call last)",
            "\u001b[0;32m<ipython-input-1-22b32e66a6dd>\u001b[0m in \u001b[0;36m<cell line: 2>\u001b[0;34m()\u001b[0m\n\u001b[1;32m      1\u001b[0m \u001b[0;32mimport\u001b[0m \u001b[0mseaborn\u001b[0m \u001b[0;32mas\u001b[0m \u001b[0msns\u001b[0m\u001b[0;34m\u001b[0m\u001b[0;34m\u001b[0m\u001b[0m\n\u001b[0;32m----> 2\u001b[0;31m \u001b[0mdf1\u001b[0m\u001b[0;34m[\u001b[0m\u001b[0;34m'hour'\u001b[0m\u001b[0;34m]\u001b[0m \u001b[0;34m=\u001b[0m \u001b[0mdf1\u001b[0m\u001b[0;34m.\u001b[0m\u001b[0mindex\u001b[0m\u001b[0;34m.\u001b[0m\u001b[0mhour\u001b[0m\u001b[0;34m\u001b[0m\u001b[0;34m\u001b[0m\u001b[0m\n\u001b[0m\u001b[1;32m      3\u001b[0m \u001b[0mdf1\u001b[0m\u001b[0;34m[\u001b[0m\u001b[0;34m'dayofweek'\u001b[0m\u001b[0;34m]\u001b[0m \u001b[0;34m=\u001b[0m \u001b[0mdf1\u001b[0m\u001b[0;34m.\u001b[0m\u001b[0mindex\u001b[0m\u001b[0;34m.\u001b[0m\u001b[0mdayofweek\u001b[0m\u001b[0;34m\u001b[0m\u001b[0;34m\u001b[0m\u001b[0m\n\u001b[1;32m      4\u001b[0m \u001b[0mdf1\u001b[0m\u001b[0;34m[\u001b[0m\u001b[0;34m'quarter'\u001b[0m\u001b[0;34m]\u001b[0m \u001b[0;34m=\u001b[0m \u001b[0mdf1\u001b[0m\u001b[0;34m.\u001b[0m\u001b[0mindex\u001b[0m\u001b[0;34m.\u001b[0m\u001b[0mquarter\u001b[0m\u001b[0;34m\u001b[0m\u001b[0;34m\u001b[0m\u001b[0m\n\u001b[1;32m      5\u001b[0m \u001b[0mdf1\u001b[0m\u001b[0;34m[\u001b[0m\u001b[0;34m'month'\u001b[0m\u001b[0;34m]\u001b[0m \u001b[0;34m=\u001b[0m \u001b[0mdf1\u001b[0m\u001b[0;34m.\u001b[0m\u001b[0mindex\u001b[0m\u001b[0;34m.\u001b[0m\u001b[0mmonth\u001b[0m\u001b[0;34m\u001b[0m\u001b[0;34m\u001b[0m\u001b[0m\n",
            "\u001b[0;31mNameError\u001b[0m: name 'df1' is not defined"
          ]
        }
      ]
    },
    {
      "cell_type": "code",
      "source": [
        "#Hourly analysis\n",
        "fig, ax = plt.subplots(figsize=(10, 8))\n",
        "sns.boxplot(data=df1, x='hour', y='MW')\n",
        "ax.set_title('MW by Hour')\n",
        "plt.show()"
      ],
      "metadata": {
        "id": "I7RfMe61kBna"
      },
      "execution_count": null,
      "outputs": []
    },
    {
      "cell_type": "code",
      "source": [
        "#weekly analysis\n",
        "fig, ax = plt.subplots(figsize=(15, 10))\n",
        "sns.boxplot(data=df1, x='weekofyear', y='MW')\n",
        "ax.set_title('MW by week')\n",
        "plt.show()"
      ],
      "metadata": {
        "id": "HRfvDRSrkHM-"
      },
      "execution_count": null,
      "outputs": []
    },
    {
      "cell_type": "code",
      "source": [
        "#Montly analysis\n",
        "fig, ax = plt.subplots(figsize=(10, 8))\n",
        "sns.boxplot(data=df1, x='month', y='MW', palette='Blues',legend=False,hue='month')\n",
        "ax.set_title('MW by Month')\n",
        "plt.show()"
      ],
      "metadata": {
        "id": "m7Gs_yCIkJc-"
      },
      "execution_count": null,
      "outputs": []
    },
    {
      "cell_type": "markdown",
      "source": [
        "### 1.8.1 Analysis report\n",
        "by pranay\n",
        "\n",
        "When we check these boxplots , we can come to a conclusion that\n",
        "- hourly report says that during the mornings the usage goes up and stays up until night when it goes low so we can conclude that the day time power usage is more than the night time usage.\n",
        "-Monthy report says that during the mid months june,july and august, the power consumption is high while april and may has low power consumption.\n",
        "- We can take some insights and continue our data analysis further ."
      ],
      "metadata": {
        "id": "cS3WV2uRgzOd"
      }
    },
    {
      "cell_type": "code",
      "source": [],
      "metadata": {
        "id": "0cGNPB4rzhpH"
      },
      "execution_count": null,
      "outputs": []
    },
    {
      "cell_type": "code",
      "source": [
        "df"
      ],
      "metadata": {
        "id": "43_ifHA-06nD"
      },
      "execution_count": null,
      "outputs": []
    },
    {
      "cell_type": "code",
      "source": [
        "\n",
        "train = df1.loc[df1.index < '01-01-2015']\n",
        "test = df1.loc[df1.index >= '01-01-2015']\n",
        "\n",
        "fig, ax = plt.subplots(figsize=(15, 5))\n",
        "train.plot(ax=ax, label='Training Set', title='Data Train/Test Split')\n",
        "test.plot(ax=ax, label='Test Set')\n",
        "ax.axvline('01-01-2015', color='black', ls='--')\n",
        "ax.legend(['Training Set', 'Test Set'])\n",
        "plt.show()"
      ],
      "metadata": {
        "id": "DGNLgdKBogSd"
      },
      "execution_count": null,
      "outputs": []
    },
    {
      "cell_type": "code",
      "source": [
        "train = create_features(train)\n",
        "test = create_features(test)\n",
        "\n",
        "FEATURES = ['dayofyear', 'hour', 'dayofweek', 'quarter', 'month', 'year']\n",
        "TARGET = 'MW'\n",
        "\n",
        "X_train = train[FEATURES]\n",
        "y_train = train[TARGET]\n",
        "\n",
        "X_test = test[FEATURES]\n",
        "y_test = test[TARGET]"
      ],
      "metadata": {
        "id": "223yCyDOoMwv"
      },
      "execution_count": null,
      "outputs": []
    },
    {
      "cell_type": "code",
      "source": [
        "reg = xgb.XGBRegressor(base_score=0.5, booster='gbtree',\n",
        "                       n_estimators=1000,\n",
        "                       early_stopping_rounds=50,\n",
        "                       objective='reg:linear',\n",
        "                       max_depth=3,\n",
        "                       learning_rate=0.01)\n",
        "reg.fit(X_train, y_train,\n",
        "        eval_set=[(X_train, y_train), (X_test, y_test)],\n",
        "        verbose=100)"
      ],
      "metadata": {
        "colab": {
          "base_uri": "https://localhost:8080/",
          "height": 211
        },
        "id": "xamtoovOozrM",
        "outputId": "cfa1cec9-a1d2-41f4-deb3-c92cde9bf19a"
      },
      "execution_count": null,
      "outputs": [
        {
          "output_type": "error",
          "ename": "NameError",
          "evalue": "name 'xgb' is not defined",
          "traceback": [
            "\u001b[0;31m---------------------------------------------------------------------------\u001b[0m",
            "\u001b[0;31mNameError\u001b[0m                                 Traceback (most recent call last)",
            "\u001b[0;32m<ipython-input-30-97e7e3d0cefa>\u001b[0m in \u001b[0;36m<cell line: 1>\u001b[0;34m()\u001b[0m\n\u001b[0;32m----> 1\u001b[0;31m reg = xgb.XGBRegressor(base_score=0.5, booster='gbtree',\n\u001b[0m\u001b[1;32m      2\u001b[0m                        \u001b[0mn_estimators\u001b[0m\u001b[0;34m=\u001b[0m\u001b[0;36m1000\u001b[0m\u001b[0;34m,\u001b[0m\u001b[0;34m\u001b[0m\u001b[0;34m\u001b[0m\u001b[0m\n\u001b[1;32m      3\u001b[0m                        \u001b[0mearly_stopping_rounds\u001b[0m\u001b[0;34m=\u001b[0m\u001b[0;36m50\u001b[0m\u001b[0;34m,\u001b[0m\u001b[0;34m\u001b[0m\u001b[0;34m\u001b[0m\u001b[0m\n\u001b[1;32m      4\u001b[0m                        \u001b[0mobjective\u001b[0m\u001b[0;34m=\u001b[0m\u001b[0;34m'reg:linear'\u001b[0m\u001b[0;34m,\u001b[0m\u001b[0;34m\u001b[0m\u001b[0;34m\u001b[0m\u001b[0m\n\u001b[1;32m      5\u001b[0m                        \u001b[0mmax_depth\u001b[0m\u001b[0;34m=\u001b[0m\u001b[0;36m3\u001b[0m\u001b[0;34m,\u001b[0m\u001b[0;34m\u001b[0m\u001b[0;34m\u001b[0m\u001b[0m\n",
            "\u001b[0;31mNameError\u001b[0m: name 'xgb' is not defined"
          ]
        }
      ]
    },
    {
      "cell_type": "code",
      "source": [
        " fi = pd.DataFrame(data=reg.feature_importances_,\n",
        "             index=reg.feature_names_in_,\n",
        "             columns=['importance'])\n",
        "fi.sort_values('importance').plot(kind='barh', title='Feature Importance')\n",
        "plt.show()"
      ],
      "metadata": {
        "id": "NhSo_ETNpHck"
      },
      "execution_count": null,
      "outputs": []
    },
    {
      "cell_type": "markdown",
      "source": [
        "## 1.9 Check if US holidays have any correlation or pattern on energy consumption\n",
        "By Yian\n",
        "<br>\n",
        "\n",
        "Hypothesis 1: There is more energy consumption on holiday days"
      ],
      "metadata": {
        "id": "yfcmSUZgsddF"
      }
    },
    {
      "cell_type": "code",
      "source": [
        "#@title Check Holiday Dates and add is_holiday boolean column\n",
        "df_combined[\"Datetime\"] = pd.to_datetime(df_combined[\"Datetime\"])\n",
        "us_holidays = holidays.US()\n",
        "df_combined[\"is_holiday\"] = df_combined[\"Datetime\"].apply(lambda x: True if x in us_holidays else False)"
      ],
      "metadata": {
        "id": "WpcnJCkPrphh"
      },
      "execution_count": null,
      "outputs": []
    },
    {
      "cell_type": "code",
      "source": [
        "correlation = df_combined[\"is_holiday\"].corr(df_combined[\"MW\"])\n",
        "print(f\"Correlation between holidays and energy consumption: {correlation:.2f}\")"
      ],
      "metadata": {
        "id": "O3YOcpUvsvox"
      },
      "execution_count": null,
      "outputs": []
    },
    {
      "cell_type": "code",
      "source": [
        "holiday_consumption = df_combined.groupby(\"is_holiday\")[\"MW\"].mean()\n",
        "print(holiday_consumption)\n"
      ],
      "metadata": {
        "id": "uUNAOrCerpeF"
      },
      "execution_count": null,
      "outputs": []
    },
    {
      "cell_type": "code",
      "source": [
        "import matplotlib.pyplot as plt\n",
        "\n",
        "holiday_consumption.plot(kind=\"bar\", title=\"Average Energy Consumption Holidays vs. Non-holidays\")\n",
        "plt.ylabel(\"Mean Energy Consumption in MW\")\n",
        "plt.xticks([0, 1], [\"Non-holiday\", \"Holiday\"], rotation=0)\n",
        "plt.show()\n"
      ],
      "metadata": {
        "id": "vBdq0yaRspmd"
      },
      "execution_count": null,
      "outputs": []
    },
    {
      "cell_type": "markdown",
      "source": [
        "### Findings on correlation between average use of energy on holiday days and non-holiday days\n",
        "The correation is -0.01, and from the bar chart we find the average consumption of energy is actually less on holiday days. The low negative correlation shows that there's no significant linear correlation between holidays and energy consumption."
      ],
      "metadata": {
        "id": "taYv_ajOtYJd"
      }
    },
    {
      "cell_type": "markdown",
      "source": [
        "## 1.10 Check specific holiday days (Thanksgiving and Christmas) and one week leading up to these holidays\n",
        "By Yian\n",
        "<br>\n",
        "\n",
        "Check if there's a correlationship between energy consumption one week leading up to the major holidays like Christmas and Thanksgiving, and on the day of these holidays"
      ],
      "metadata": {
        "id": "RFUH0E1RuIoo"
      }
    },
    {
      "cell_type": "code",
      "source": [
        "def is_christmas(date):\n",
        "    return date.month == 12 and date.day == 25\n",
        "\n",
        "def is_thanksgiving(date):\n",
        "    return date in us_holidays and us_holidays.get(date) == \"Thanksgiving\"\n",
        "\n",
        "df_combined[\"is_christmas\"] = df_combined[\"Datetime\"].dt.date.apply(is_christmas)\n",
        "df_combined[\"is_thanksgiving\"] = df_combined[\"Datetime\"].dt.date.apply(is_thanksgiving)\n",
        "\n",
        "df_combined[\"is_week_before_christmas\"] = df_combined[\"Datetime\"].dt.date.apply(\n",
        "    lambda x: (pd.Timestamp(year=x.year, month=12, day=18) <= pd.Timestamp(x) < pd.Timestamp(year=x.year, month=12, day=25))\n",
        ")\n",
        "\n",
        "df_combined[\"is_week_before_thanksgiving\"] = df_combined[\"Datetime\"].dt.date.apply(\n",
        "    lambda x: (pd.Timestamp(x) - pd.DateOffset(weeks=1)).date() in us_holidays and us_holidays.get((pd.Timestamp(x) - pd.DateOffset(weeks=1)).date()) == \"Thanksgiving\"\n",
        ")\n"
      ],
      "metadata": {
        "id": "3lpbFWeAttSP"
      },
      "execution_count": null,
      "outputs": []
    },
    {
      "cell_type": "code",
      "source": [
        "df_combined.head()"
      ],
      "metadata": {
        "id": "lTyuekvJzXvh"
      },
      "execution_count": null,
      "outputs": []
    },
    {
      "cell_type": "code",
      "source": [
        "#@title calculating correlation\n",
        "\n",
        "christmas_corr = df_combined[\"is_christmas\"].corr(df_combined[\"MW\"])\n",
        "thanksgiving_corr = df_combined[\"is_thanksgiving\"].corr(df_combined[\"MW\"])\n",
        "week_before_christmas_corr = df_combined[\"is_week_before_christmas\"].corr(df_combined[\"MW\"])\n",
        "week_before_thanksgiving_corr = df_combined[\"is_week_before_thanksgiving\"].corr(df_combined[\"MW\"])\n",
        "\n",
        "print(f\"Correlation on Christmas: {christmas_corr:.4f}\")\n",
        "print(f\"Correlation on Thanksgiving: {thanksgiving_corr:.4f}\")\n",
        "print(f\"Correlation 1 week before Christmas: {week_before_christmas_corr:.4f}\")\n",
        "print(f\"Correlation 1 week before Thanksgiving: {week_before_thanksgiving_corr:.4f}\")"
      ],
      "metadata": {
        "id": "H56HmLExufKl"
      },
      "execution_count": null,
      "outputs": []
    },
    {
      "cell_type": "code",
      "source": [
        "#@title Visualization on average daily consumption of energy one week before Christmas and On Christmas\n",
        "# aggregate data by daily mean instead of hourly\n",
        "df_combined['Date'] = df_combined['Datetime'].dt.date\n",
        "daily_consumption = df_combined.groupby('Date')['MW'].mean().reset_index()\n",
        "\n",
        "# check energy consumption pattern a week before christmas and on christmas\n",
        "daily_consumption['is_christmas'] = daily_consumption['Date'].apply(lambda x: is_christmas(pd.Timestamp(x)))\n",
        "daily_consumption['is_week_before_christmas'] = daily_consumption['Date'].apply(\n",
        "    lambda x: pd.Timestamp(x) >= pd.Timestamp(x.year, 12, 18) and pd.Timestamp(x) < pd.Timestamp(x.year, 12, 25)\n",
        ")\n",
        "\n",
        "plt.figure(figsize=(14, 6))\n",
        "plt.scatter(daily_consumption[daily_consumption['is_christmas']]['Date'],\n",
        "            daily_consumption[daily_consumption['is_christmas']]['MW'],\n",
        "            color='red', label=\"Christmas\", s=50)\n",
        "plt.scatter(daily_consumption[daily_consumption['is_week_before_christmas']]['Date'],\n",
        "            daily_consumption[daily_consumption['is_week_before_christmas']]['MW'],\n",
        "            color='orange', label=\"Week Before Christmas\", s=50)\n",
        "plt.plot(daily_consumption['Date'], daily_consumption['MW'], label=\"Daily Avg Energy Consumption\", color='blue',alpha=0.5)\n",
        "\n",
        "\n",
        "plt.title(\"Daily Average Energy Consumption Before and On Christmas\")\n",
        "plt.xlabel(\"Date\")\n",
        "plt.ylabel(\"Average MW\")\n",
        "plt.legend()\n",
        "plt.grid()\n",
        "plt.show()\n"
      ],
      "metadata": {
        "id": "cuihneHvvR3W"
      },
      "execution_count": null,
      "outputs": []
    },
    {
      "cell_type": "code",
      "source": [
        "#@title Visualization on daily average energy consumption one week before Thanksgiving and on Thanksgiving day\n",
        "daily_consumption['is_thanksgiving'] = daily_consumption['Date'].apply(lambda x: is_thanksgiving(pd.Timestamp(x)))\n",
        "daily_consumption['is_week_before_thanksgiving'] = daily_consumption['Date'].apply(\n",
        "    lambda x: (pd.Timestamp(x) - pd.DateOffset(weeks=1)).date() in us_holidays and\n",
        "              us_holidays.get((pd.Timestamp(x) - pd.DateOffset(weeks=1)).date()) == \"Thanksgiving\"\n",
        ")\n",
        "\n",
        "plt.figure(figsize=(14, 6))\n",
        "\n",
        "plt.scatter(daily_consumption[daily_consumption['is_thanksgiving']]['Date'],\n",
        "            daily_consumption[daily_consumption['is_thanksgiving']]['MW'],\n",
        "            color='red', label=\"Thanksgiving\", s=50)\n",
        "plt.scatter(daily_consumption[daily_consumption['is_week_before_thanksgiving']]['Date'],\n",
        "            daily_consumption[daily_consumption['is_week_before_thanksgiving']]['MW'],\n",
        "            color='orange', label=\"Week Before Thanksgiving\", s=100)\n",
        "\n",
        "plt.plot(daily_consumption['Date'], daily_consumption['MW'], label=\"Daily Avg Energy Consumption\", color='blue',alpha=0.5)\n",
        "\n",
        "plt.title(\"Daily Average Energy Consumption Before and On Thanksgiving\")\n",
        "plt.xlabel(\"Date\")\n",
        "plt.ylabel(\"Average MW\")\n",
        "plt.legend()\n",
        "plt.grid()\n",
        "plt.show()\n"
      ],
      "metadata": {
        "id": "IzlIwFspv4Pf"
      },
      "execution_count": null,
      "outputs": []
    },
    {
      "cell_type": "code",
      "source": [
        "christmas_data = daily_consumption[['MW', 'is_christmas', 'is_week_before_christmas']]\n",
        "christmas_corr = christmas_data.corr(method='pearson')\n",
        "thanksgiving_data = daily_consumption[['MW', 'is_thanksgiving', 'is_week_before_thanksgiving']]\n",
        "thanksgiving_corr = thanksgiving_data.corr(method='pearson')\n",
        "\n",
        "fig, axes = plt.subplots(1, 2, figsize=(16, 6))\n",
        "\n",
        "sns.heatmap(christmas_corr, annot=True, cmap='coolwarm', linewidths=0.5, ax=axes[0])\n",
        "axes[0].set_title(\"Pearson Correlation (Christmas)\")\n",
        "\n",
        "sns.heatmap(thanksgiving_corr, annot=True, cmap='coolwarm', linewidths=0.5, ax=axes[1])\n",
        "axes[1].set_title(\"Pearson Correlation (Thanksgiving)\")\n",
        "\n",
        "plt.tight_layout()\n",
        "plt.show()"
      ],
      "metadata": {
        "id": "UdOk65R7LWzM"
      },
      "execution_count": null,
      "outputs": []
    },
    {
      "cell_type": "markdown",
      "source": [
        "### Findings on correlation between major winter holidays\n",
        "The correlation between holidays and a week leading up to holidays and average energy daily consumption seem very weak, suggesting there is no linear correlation. Hypothesis 1 is False and the relevance is low."
      ],
      "metadata": {
        "id": "htcPthceymH2"
      }
    },
    {
      "cell_type": "markdown",
      "source": [
        "## 1.11 Check correlation between seasons and energy consumption\n",
        "By Yian\n",
        "<br>\n",
        "Hypothesis 2: Different seasons could have different energy consumption needs. Seasons with higher or lower temperatures require more energy use."
      ],
      "metadata": {
        "id": "yYxELty82H_h"
      }
    },
    {
      "cell_type": "code",
      "source": [
        "#@title Categorize the seasons by month\n",
        "def get_season(date):\n",
        "    month = date.month\n",
        "    if month in [12, 1, 2]:\n",
        "        return 'Winter'\n",
        "    elif month in [3, 4, 5]:\n",
        "        return 'Spring'\n",
        "    elif month in [6, 7, 8]:\n",
        "        return 'Summer'\n",
        "    elif month in [9, 10, 11]:\n",
        "        return 'Autumn'\n",
        "    return None\n",
        "\n",
        "daily_consumption['season'] = daily_consumption['Date'].apply(lambda x: get_season(pd.Timestamp(x)))\n",
        "\n"
      ],
      "metadata": {
        "id": "IoEnS2Rl1Hoo"
      },
      "execution_count": null,
      "outputs": []
    },
    {
      "cell_type": "code",
      "source": [
        "daily_consumption.head()"
      ],
      "metadata": {
        "id": "03_MK3oC1myb"
      },
      "execution_count": null,
      "outputs": []
    },
    {
      "cell_type": "code",
      "source": [
        "seasonal_avg = daily_consumption.groupby('season')['MW'].mean().sort_index()\n",
        "\n",
        "print(seasonal_avg)\n"
      ],
      "metadata": {
        "id": "lAc3P5F32cZQ"
      },
      "execution_count": null,
      "outputs": []
    },
    {
      "cell_type": "code",
      "source": [
        "\n",
        "plt.figure(figsize=(10, 6))\n",
        "seasonal_avg.plot(kind='bar', color=['skyblue', 'lightgreen', 'salmon', 'orange'])\n",
        "plt.title(\"Average Energy Consumption by Season\")\n",
        "plt.xlabel(\"Season\")\n",
        "plt.ylabel(\"Average MW\")\n",
        "plt.xticks(rotation=0)\n",
        "plt.grid(axis='y')\n",
        "plt.show()\n"
      ],
      "metadata": {
        "id": "kd_dgx5W2gsk"
      },
      "execution_count": null,
      "outputs": []
    },
    {
      "cell_type": "code",
      "source": [
        "daily_consumption.head()"
      ],
      "metadata": {
        "id": "Zxe_ZvOx5p02"
      },
      "execution_count": null,
      "outputs": []
    },
    {
      "cell_type": "code",
      "source": [
        "df = df_combined.copy()"
      ],
      "metadata": {
        "id": "9m__Yw0B7XSn"
      },
      "execution_count": null,
      "outputs": []
    },
    {
      "cell_type": "code",
      "source": [
        "df['Datetime'] = pd.to_datetime( df['Datetime'] )\n",
        "df['Year'] = df['Datetime'].dt.year"
      ],
      "metadata": {
        "id": "M1ArA8Vw6jEj"
      },
      "execution_count": null,
      "outputs": []
    },
    {
      "cell_type": "code",
      "source": [
        "df['season'] = df['Date'].apply(lambda x: get_season(pd.Timestamp(x)))\n"
      ],
      "metadata": {
        "id": "5VG9HP8o7mHk"
      },
      "execution_count": null,
      "outputs": []
    },
    {
      "cell_type": "code",
      "source": [
        "df.head()"
      ],
      "metadata": {
        "id": "LDlRuZDl72i7"
      },
      "execution_count": null,
      "outputs": []
    },
    {
      "cell_type": "code",
      "source": [
        "aux2 = df[['Year', 'season', 'MW']].groupby(['Year', 'season']).sum().reset_index()\n",
        "\n",
        "plt.figure(figsize=(14, 8))\n",
        "# sns.color_palette(\"hls\", 8)\n",
        "\n",
        "sns.barplot(x='Year', y='MW', palette='husl',hue='season', data=aux2)\n",
        "plt.title(\"Energy Consumption by Year and Season\")\n",
        "plt.xlabel(\"Year\")\n",
        "plt.ylabel(\"Total MW Energy Consumption\")\n",
        "plt.xticks(rotation=45)\n",
        "plt.legend(title=\"Season\")\n",
        "plt.grid(axis='y', linestyle='--', alpha=1)\n",
        "plt.show()"
      ],
      "metadata": {
        "id": "Q1ne5HBz76HY"
      },
      "execution_count": null,
      "outputs": []
    },
    {
      "cell_type": "markdown",
      "source": [
        "### Findings on different seasons having different energy consumption needs\n",
        "The yearly aggregate bar chart and average bar chart show that in summer seasons the energy consumption in the US is usually highest. The second highest is normally winter or fall seasons. The pattern is consistent through the years, therefore hypothesis 2 is true.\n"
      ],
      "metadata": {
        "id": "c6GS1dj_-hkW"
      }
    },
    {
      "cell_type": "markdown",
      "source": [
        "## 1.12 Visualize how hour of the day affects energy expenditure\n",
        "By Yian\n"
      ],
      "metadata": {
        "id": "0jwKpsibNug7"
      }
    },
    {
      "cell_type": "code",
      "source": [
        "df['hour_of_day'] = df['Datetime'].dt.hour\n",
        "aux3 = df[['hour_of_day', 'MW']].groupby( 'hour_of_day' ).sum().reset_index()\n",
        "fig, axes = plt.subplots(1, 2, figsize=(16, 6))\n",
        "sns.barplot( x='hour_of_day', y='MW', data=aux3, ax=axes[0])\n",
        "sns.heatmap( aux3.corr( method='pearson' ), annot=True, ax=axes[1] );"
      ],
      "metadata": {
        "id": "jeUE7tzXJRAw"
      },
      "execution_count": null,
      "outputs": []
    },
    {
      "cell_type": "code",
      "source": [
        "df['day_of_month'] = df['Datetime'].dt.day\n",
        "df['day_of_week'] = df['Datetime'].dt.dayofweek\n",
        "df['Month'] = df['Datetime'].dt.month"
      ],
      "metadata": {
        "id": "dveePH71T-GY"
      },
      "execution_count": null,
      "outputs": []
    },
    {
      "cell_type": "markdown",
      "source": [
        "# 2. Feature Selection and Data Preparation\n",
        "By Yian\n"
      ],
      "metadata": {
        "id": "E7q4fxK4P2E4"
      }
    },
    {
      "cell_type": "code",
      "source": [
        "from sklearn.pipeline import Pipeline\n",
        "from sklearn.ensemble import RandomForestRegressor\n",
        "from sklearn.preprocessing import StandardScaler\n",
        "from sklearn.metrics import r2_score, mean_squared_error\n",
        "from sklearn.base import BaseEstimator, TransformerMixin\n",
        "import numpy as np\n",
        "import pandas as pd\n",
        "import matplotlib.pyplot as plt\n"
      ],
      "metadata": {
        "id": "fuuKp3cFDku8"
      },
      "execution_count": null,
      "outputs": []
    },
    {
      "cell_type": "code",
      "source": [
        "df.columns"
      ],
      "metadata": {
        "id": "y66ivZpBdhwc"
      },
      "execution_count": null,
      "outputs": []
    },
    {
      "cell_type": "code",
      "source": [
        "df2 = df.copy()"
      ],
      "metadata": {
        "id": "_r3Ke-Ocp7bO"
      },
      "execution_count": null,
      "outputs": []
    },
    {
      "cell_type": "code",
      "source": [
        "df2.head()"
      ],
      "metadata": {
        "id": "kn384b-Dei5d"
      },
      "execution_count": null,
      "outputs": []
    },
    {
      "cell_type": "markdown",
      "source": [
        "## 2.1 Synchronize the time period for the companies since the datasets start and end in different years/ date ranges\n",
        "\n",
        "By Yian"
      ],
      "metadata": {
        "id": "fKMVTr7tMBsv"
      }
    },
    {
      "cell_type": "code",
      "source": [
        "# Check the min and max dates of each datasets of different companies to see if there are overlaps\n",
        "min_max = []\n",
        "for i in df2['company'].unique():\n",
        "    min_max.append( [ i, df2[df2['company']==i]['Date'].min(), df2[df2['company']==i]['Date'].max() ] )\n",
        "\n",
        "mm = pd.DataFrame( columns=[ 'electric_company', 'min_date', 'max_date' ], data=min_max )\n",
        "mm"
      ],
      "metadata": {
        "id": "lPy88Rsoflpb"
      },
      "execution_count": null,
      "outputs": []
    },
    {
      "cell_type": "markdown",
      "source": [
        " Since there are no same min and max dates for all the electrical companies, for our training data we will use all data points from earliest data (min_date) up to 1 year before last date (max_date)\n",
        " to ensure the training data captures the long history but excludes the most recent year.\n",
        " For our test set we will include the most recent data points from cut date (1 year before max_date) up to the latest date (max_date).\n"
      ],
      "metadata": {
        "id": "OvjNFRiTlM5D"
      }
    },
    {
      "cell_type": "code",
      "source": [
        "import datetime\n",
        "cut_dates = []\n",
        "\n",
        "# get the cut dates for all companies, since all date ranges of the datasets of companies are different\n",
        "for company in mm['electric_company'].unique():\n",
        "    max_date = pd.to_datetime(mm[mm['electric_company'] == company]['max_date'].values[0])\n",
        "\n",
        "    cut_date = max_date - datetime.timedelta(days=12 * 30)  # approximate 12 months as 360 days\n",
        "\n",
        "    cut_dates.append([company, cut_date])\n",
        "\n",
        "cutoff_df = pd.DataFrame(cut_dates, columns=['electric_company', 'cut_date'])\n",
        "cutoff_df"
      ],
      "metadata": {
        "id": "YY1PQnIroTSX"
      },
      "execution_count": null,
      "outputs": []
    },
    {
      "cell_type": "code",
      "source": [
        "def add_company_id(X):\n",
        "  \"\"\"\n",
        "  encodes categorical company names to numerical values\n",
        "  \"\"\"\n",
        "  X['company_id'] = X['company'].astype('category').cat.codes\n",
        "\n",
        "  return X"
      ],
      "metadata": {
        "id": "WKrVlg8LYM6p"
      },
      "execution_count": null,
      "outputs": []
    },
    {
      "cell_type": "markdown",
      "source": [
        "### 2.1.1 Function that synchronizes our train and test data\n",
        "The training data will contain data points from the earliest data up to 1 year before last date. The test set will include the most recent data points from cut date (1 year before before the latest date)."
      ],
      "metadata": {
        "id": "jcrJinvvYhqh"
      }
    },
    {
      "cell_type": "code",
      "source": [
        "def synchronize_data(df2, cutoff_df):\n",
        "  \"\"\"\n",
        "  synchronizes all energy consumption data of different companies to established cut-off point for train-test split\n",
        "  \"\"\"\n",
        "  df2 = add_company_id(df2.copy())\n",
        "\n",
        "  train_data = []\n",
        "  test_data = []\n",
        "\n",
        "  for company in cutoff_df['electric_company']:\n",
        "      # cut date for each company\n",
        "      cut_date = cutoff_df[cutoff_df['electric_company'] == company]['cut_date'].values[0]\n",
        "\n",
        "      company_data = df2[df2['company'] == company]\n",
        "\n",
        "      train = company_data[company_data['Datetime'] < cut_date]\n",
        "      test = company_data[company_data['Datetime'] >= cut_date]\n",
        "\n",
        "      train_data.append(train)\n",
        "      test_data.append(test)\n",
        "\n",
        "  train_df = pd.concat(train_data)\n",
        "  test_df = pd.concat(test_data)\n",
        "  return train_df, test_df"
      ],
      "metadata": {
        "id": "pea_GRSuYB0Q"
      },
      "execution_count": null,
      "outputs": []
    },
    {
      "cell_type": "markdown",
      "source": [
        "## 2.2 Creating Data Pipeline and Applying Feature Transformation\n",
        "By Yian\n",
        "<br>\n",
        "<br>\n",
        "### 2.2.1 Encoding Cyclical Features\n",
        "\n",
        "<br>\n",
        "A common method to encode cyclical data is to transform data into two dimensions using sine and cosine transformation.\n",
        "We want to transform the original features into cyclical features (hour of day, day of week, day of month, season) to capture the cyclical nature of these variables. Since we're working with time series data, features like hour of the day, day of the week, and seasons etc. have a cyclical pattern. By applying sine and cosine transformations we project these values onto a circle for our models to learn the cyclical natures. Sine captures the y-axis information and cosine captures the x-axis information.\n",
        "<br>\n",
        "We perform the following transformations:\n",
        "\\begin{align*}\n",
        "x_{\\sin} &= \\sin\\left(\\frac{2 \\cdot \\pi \\cdot x}{\\max(x)}\\right) \\\\\n",
        "x_{\\cos} &= \\cos\\left(\\frac{2 \\cdot \\pi \\cdot x}{\\max(x)}\\right)\n",
        "\\end{align*}\n",
        "<br>\n",
        "<br>\n",
        "\n",
        "### 2.2.2 Building Preprocessing Pipeline\n",
        "For our data pipeline, we apply feature transformations such as encoding features to cyclical patterns using sine and cosine. We also encode the seasons and holiday features.\n",
        "<br>\n",
        "No further normalization is needed for this data since transforming the data to cyclical features (with sine and cosine) already normalizes them between -1 and 1.\n"
      ],
      "metadata": {
        "id": "1hfXbHBzMZEP"
      }
    },
    {
      "cell_type": "code",
      "source": [
        "class CustomPreprocessor(BaseEstimator, TransformerMixin):\n",
        "    def __init__(self):\n",
        "      pass\n",
        "\n",
        "    def fit(self, X, y=None):\n",
        "        return self\n",
        "\n",
        "    def encode_seasons_holidays (self, X):\n",
        "      \"\"\"\n",
        "      encodes seasons and holiday values\n",
        "      \"\"\"\n",
        "      # Mapping the seasons categorical variable to ordinal values because there is ordinal relationship\n",
        "      ordinal_encode_season = {'Winter': 1, 'Spring': 2, 'Summer': 3, 'Autumn': 4}\n",
        "      X['season'] = X['season'].map(ordinal_encode_season)\n",
        "\n",
        "      # One-hot encode holidays (change to binary values)\n",
        "      X['is_holiday'] = X['is_holiday'].astype(int)\n",
        "\n",
        "      return X\n",
        "\n",
        "    def transform(self, X):\n",
        "      \"\"\"\n",
        "      returns X with encoded features\n",
        "      \"\"\"\n",
        "\n",
        "      X = self.encode_seasons_holidays(X.copy())\n",
        "\n",
        "      # Sine-cosine transformation for cyclical features\n",
        "      # hour of day range from 0 to 23, so this scales our hour of the day to fit in circle 0 to 2pi radians\n",
        "      X['hour_of_day_sin'] = X['hour_of_day'].apply(lambda x: np.sin(x * (2. * np.pi / 24.)))\n",
        "      X['hour_of_day_cos'] = X['hour_of_day'].apply(lambda x: np.cos(x * (2. * np.pi / 24.)))\n",
        "\n",
        "      # split seasons to 4 parts\n",
        "      X['season_sin'] = X['season'].apply(lambda x: np.sin(x * (2. * np.pi / 4.)))\n",
        "      X['season_cos'] = X['season'].apply(lambda x: np.cos(x * (2. * np.pi / 4.)))\n",
        "\n",
        "      X['day_of_week_sin'] = np.sin(X['day_of_week'] * (2. * np.pi / 7.))\n",
        "      X['day_of_week_cos'] = np.cos(X['day_of_week'] * (2. * np.pi / 7.))\n",
        "\n",
        "      X['day_of_month_sin'] = np.sin(X['day_of_month'] * (2. * np.pi / 31.))\n",
        "      X['day_of_month_cos'] = np.cos(X['day_of_month'] * (2. * np.pi / 31.))\n",
        "\n",
        "      # Drop unwanted columns\n",
        "      cols_drop = ['hour_of_day','is_thanksgiving','is_christmas','is_week_before_christmas','is_week_before_thanksgiving', 'season', 'day_of_week', 'day_of_month']\n",
        "      X = X.drop(columns=cols_drop, errors='ignore')\n",
        "\n",
        "      return X\n"
      ],
      "metadata": {
        "id": "g5S5fyugEx9r"
      },
      "execution_count": null,
      "outputs": []
    },
    {
      "cell_type": "markdown",
      "source": [
        "# 3. Split dataframe to train and test dataset\n",
        "By Yian\n",
        "\n"
      ],
      "metadata": {
        "id": "Kpp1WluceuuR"
      }
    },
    {
      "cell_type": "code",
      "source": [
        "features = [\n",
        "    'hour_of_day_sin', 'hour_of_day_cos',\n",
        "    'season_sin', 'season_cos',\n",
        "    'day_of_week_sin', 'day_of_week_cos',\n",
        "    'day_of_month_sin', 'day_of_month_cos',\n",
        "    'company_id'\n",
        "]\n",
        "\n",
        "target = 'MW'\n",
        "\n",
        "preprocessor = CustomPreprocessor()\n",
        "df_transformed = preprocessor.transform(df2)\n",
        "train_df, test_df = synchronize_data(df_transformed, cutoff_df)\n",
        "\n",
        "# get select features\n",
        "X_train, y_train = train_df[features], train_df[target]\n",
        "X_test, y_test = test_df[features], test_df[target]\n",
        "\n",
        "print(f\"X_train shape: {X_train.shape}\")\n",
        "print(f\"y_train shape: {y_train.shape}\")\n",
        "print(f\"X_test shape: {X_test.shape}\")\n",
        "print(f\"y_test shape: {y_test.shape}\")\n"
      ],
      "metadata": {
        "id": "zhtoLu9XMMbb"
      },
      "execution_count": null,
      "outputs": []
    },
    {
      "cell_type": "code",
      "source": [
        "X_train.head()"
      ],
      "metadata": {
        "id": "rj8rOP-ZGSu5"
      },
      "execution_count": null,
      "outputs": []
    },
    {
      "cell_type": "markdown",
      "source": [
        "# 4. Random Forest Model\n",
        "By Yian\n"
      ],
      "metadata": {
        "id": "NhYLNz9K_k0w"
      }
    },
    {
      "cell_type": "code",
      "source": [
        "from sklearn.ensemble import RandomForestRegressor\n",
        "from sklearn.metrics import r2_score, mean_squared_error\n",
        "\n",
        "\n",
        "initial_rf_model = RandomForestRegressor(n_estimators=100, random_state=42)\n",
        "initial_rf_model.fit(X_train, y_train)\n"
      ],
      "metadata": {
        "id": "DCE3-8-2Igeh"
      },
      "execution_count": null,
      "outputs": []
    },
    {
      "cell_type": "code",
      "source": [
        "#@title Predict Training Data\n",
        "y_train_pred = initial_rf_model.predict(X_train)\n",
        "\n",
        "y_test_pred = initial_rf_model.predict(X_test)\n"
      ],
      "metadata": {
        "id": "DAeQdhhzs0aD"
      },
      "execution_count": null,
      "outputs": []
    },
    {
      "cell_type": "markdown",
      "source": [
        "## 4.1 Model Evaluation with R-Squared and RMSE\n",
        "By Yian\n",
        "<br>\n",
        "We evaluate with R-squared $R^2 = 1 - \\frac{\\sum_{i=1}^{n} (y_i - \\hat{y}_i)^2}{\\sum_{i=1}^{n} (y_i - \\bar{y})^2}$, where y_i is the target value and y_hat is the predicted value, to check how well the model fits the data (1.0 is perfect fit). We also use Root Mean Sqaured Error (RMSE) $\\text{RMSE} = \\sqrt{\\frac{1}{n} \\sum_{i=1}^{n} (y_i - \\hat{y}_i)^2}\n",
        "$\n",
        "to measure the standard deviation of residuals (predition errors). The lower the RMSE means less error, which indicates better fit."
      ],
      "metadata": {
        "id": "q5DwP7I0s507"
      }
    },
    {
      "cell_type": "code",
      "source": [
        "train_r2 = r2_score(y_train, y_train_pred)\n",
        "test_r2 = r2_score(y_test, y_test_pred)\n",
        "\n",
        "train_rmse = np.sqrt(mean_squared_error(y_train, y_train_pred))\n",
        "test_rmse = np.sqrt(mean_squared_error(y_test, y_test_pred))\n",
        "\n",
        "print(f\"Training R² Score: {train_r2:.4f}\")\n",
        "print(f\"Test R² Score: {test_r2:.4f}\")\n",
        "print(f\"Training RMSE: {train_rmse:.2f}\")\n",
        "print(f\"Test RMSE: {test_rmse:.2f}\")\n"
      ],
      "metadata": {
        "id": "gsdux9Q8tZID"
      },
      "execution_count": null,
      "outputs": []
    },
    {
      "cell_type": "markdown",
      "source": [
        "## 4.2 Check Feature Importance of the Random Forest Model\n",
        "Yian"
      ],
      "metadata": {
        "id": "OVmtqGy2t0xs"
      }
    },
    {
      "cell_type": "code",
      "source": [
        "import matplotlib.pyplot as plt\n",
        "\n",
        "feature_importance = initial_rf_model.feature_importances_\n",
        "\n",
        "importance_df = pd.DataFrame({'Feature': features, 'Importance': feature_importance})\n",
        "importance_df = importance_df.sort_values(by='Importance', ascending=False)\n",
        "\n",
        "plt.figure(figsize=(10, 6))\n",
        "plt.barh(importance_df['Feature'], importance_df['Importance'])\n",
        "plt.xlabel(\"Importance\")\n",
        "plt.title(\"Feature Importance in Random Forest Regressor\")\n",
        "plt.show()\n"
      ],
      "metadata": {
        "id": "Aq2XvG8xt3qD"
      },
      "execution_count": null,
      "outputs": []
    },
    {
      "cell_type": "markdown",
      "source": [
        "The high feature importance of 'company_id' in the Random Forest model is likely because the company_id acts as a unique categorical identifier of the source of the data. Since different electric companies in the dataset have unique patterns of energy consumption due to geographical, environmental, and operational differences. These companies are in different regions and have distinct seasonal behaviors and energy demands. As a result, the 'company_id' could help the model easily differentiate and make better predictions based on the company.\n"
      ],
      "metadata": {
        "id": "6pi7l2ST9qiz"
      }
    },
    {
      "cell_type": "markdown",
      "source": [
        "## 4.3 Create Feature Selector Transformer\n",
        "By Yian\n",
        "<br>\n",
        "Build top k feature selector based on Random Forest base model feature importance to add to our data pipeline"
      ],
      "metadata": {
        "id": "FjS2ITlWHAFG"
      }
    },
    {
      "cell_type": "code",
      "source": [
        "def indices_of_top_k(arr, k):\n",
        "    return np.sort(np.argpartition(np.array(arr), -k)[-k:])\n",
        "\n",
        "class TopFeatureSelector(BaseEstimator, TransformerMixin):\n",
        "    def __init__(self, feature_importances, k):\n",
        "        self.feature_importances = feature_importances\n",
        "        self.k = k\n",
        "\n",
        "    def fit(self, X, y=None):\n",
        "        self.feature_indices_ = indices_of_top_k(self.feature_importances, self.k)\n",
        "        return self\n",
        "\n",
        "    def transform(self, X):\n",
        "        return X.iloc[:, self.feature_indices_]\n"
      ],
      "metadata": {
        "id": "pbdYxRA3G-0O"
      },
      "execution_count": null,
      "outputs": []
    },
    {
      "cell_type": "markdown",
      "source": [
        "## 4.4 Putting together the data pipeline for feature selector and running RF model after feature selection on initial model\n",
        "By Yian"
      ],
      "metadata": {
        "id": "OhTjYH0_TEfh"
      }
    },
    {
      "cell_type": "code",
      "source": [
        "# pipeline after adding feature selector\n",
        "\n",
        "top_k_features = 5\n",
        "\n",
        "data_pipeline = Pipeline([\n",
        "    ('feature_selector', TopFeatureSelector(feature_importance, top_k_features)),\n",
        "    ('regressor', RandomForestRegressor(n_estimators=100, random_state=42))\n",
        "])\n",
        "\n",
        "data_pipeline.fit(X_train, y_train)\n",
        "\n",
        "# predictions\n",
        "y_train_pred = data_pipeline.predict(X_train)\n",
        "y_test_pred = data_pipeline.predict(X_test)"
      ],
      "metadata": {
        "id": "qX8yF_nmHVjO"
      },
      "execution_count": null,
      "outputs": []
    },
    {
      "cell_type": "markdown",
      "source": [
        "## 4.5 Evaluation on RF Model after top 5 feature selection\n",
        "By Yian"
      ],
      "metadata": {
        "id": "MIYxPD-HRXl4"
      }
    },
    {
      "cell_type": "code",
      "source": [
        "train_r2 = r2_score(y_train, y_train_pred)\n",
        "test_r2 = r2_score(y_test, y_test_pred)\n",
        "\n",
        "train_rmse = np.sqrt(mean_squared_error(y_train, y_train_pred))\n",
        "test_rmse = np.sqrt(mean_squared_error(y_test, y_test_pred))\n",
        "\n",
        "print(f\"Training R² Score: {train_r2:.4f}\")\n",
        "print(f\"Test R² Score: {test_r2:.4f}\")\n",
        "print(f\"Training RMSE: {train_rmse:.2f}\")\n",
        "print(f\"Test RMSE: {test_rmse:.2f}\")"
      ],
      "metadata": {
        "id": "ezpypCOWRgA7"
      },
      "execution_count": null,
      "outputs": []
    },
    {
      "cell_type": "markdown",
      "source": [
        "## Conclusion on Random Forest Model\n",
        "By Yian\n",
        "\n",
        "The Random Forest initial model achieves a fairly high score with an RMSE of 1987.45 on the test set and 0.962 for the R^2. The Random Forest model after feature selections indicates even more robust performance of 1752.68 on the test set (lower prediction error) and R^2 score of 0.97, which demonstrates that the selecting only the top k important features helps reduce the feature space (dimensionality of data) and model complexity, which in turn helps the model generalize even better."
      ],
      "metadata": {
        "id": "GVGRaf-paMK_"
      }
    },
    {
      "cell_type": "markdown",
      "source": [
        "# 5 .RNN Model\n",
        "\n",
        "By Hogan"
      ],
      "metadata": {
        "id": "bWD2f7qIyF0y"
      }
    },
    {
      "cell_type": "code",
      "source": [
        "import numpy as np\n",
        "import pandas as pd\n",
        "import matplotlib.pyplot as plt\n",
        "import tensorflow as tf\n",
        "import os\n",
        "import sklearn.preprocessing\n",
        "from sklearn.metrics import r2_score\n",
        "from keras.layers import Dense,Dropout,SimpleRNN,LSTM\n",
        "from keras.models import Sequential"
      ],
      "metadata": {
        "id": "OBHx35IC-l9b"
      },
      "execution_count": null,
      "outputs": []
    },
    {
      "cell_type": "code",
      "source": [
        "#Plotting hourly energy usage:\n",
        "AEP = pd.read_csv(os.path.join(path, \"AEP_hourly.csv\"), index_col=[0], parse_dates=[0])\n",
        "\n",
        "mau = [\"#F8766D\", \"#D39200\", \"#93AA00\", \"#00BA38\", \"#00C19F\", \"#00B9E3\", \"#619CFF\", \"#DB72FB\"]\n",
        "bieudo = AEP.plot(style='.',figsize=(15,5), color=mau[0], title='AEP')\n",
        "\n",
        "#Data transformation\n",
        "def create_features(df, label=None):\n",
        "    df = df.copy()\n",
        "    df['date'] = df.index\n",
        "    df['hour'] = df['date'].dt.hour\n",
        "    df['dayofweek'] = df['date'].dt.dayofweek\n",
        "    df['quarter'] = df['date'].dt.quarter\n",
        "    df['month'] = df['date'].dt.month\n",
        "    df['year'] = df['date'].dt.year\n",
        "    df['dayofyear'] = df['date'].dt.dayofyear\n",
        "    df['dayofmonth'] = df['date'].dt.day\n",
        "\n",
        "    X = df[['hour', 'dayofweek', 'quarter', 'month', 'year',\n",
        "            'dayofyear', 'dayofmonth']]\n",
        "    if label:\n",
        "        y = df[label]\n",
        "        return X, y\n",
        "    return X\n",
        "\n",
        "X, y = create_features(AEP, label='AEP_MW')\n",
        "features_and_target = pd.concat([X, y], axis=1)\n",
        "print(features_and_target)\n",
        "plt.show()\n",
        "\n",
        "plt.figure(figsize=(15,6))\n",
        "data_csv = AEP.dropna()\n",
        "dataset = data_csv.values\n",
        "dataset = dataset.astype('float32')\n",
        "max_value = np.max(dataset)\n",
        "min_value = np.min(dataset)\n",
        "scalar = max_value - min_value\n",
        "dataset = list(map(lambda x: (x-min_value) / scalar, dataset))\n",
        "plt.plot(dataset)\n",
        "print(max_value, min_value)"
      ],
      "metadata": {
        "id": "gLLCj-a7-pL7"
      },
      "execution_count": null,
      "outputs": []
    },
    {
      "cell_type": "code",
      "source": [
        "#choosing DOM_hourly.csv data for analysis\n",
        "fpath='./dataset/DOM_hourly.csv'\n",
        "\n",
        "#Let's use datetime(2012-10-01 12:00:00,...) as index instead of numbers(0,1,...)\n",
        "#This will be helpful for further data analysis as we are dealing with time series data\n",
        "df = pd.read_csv(os.path.join(path, \"DOM_hourly.csv\"), index_col='Datetime', parse_dates=['Datetime'])\n",
        "df.head()\n",
        "\n",
        "#checking missing data\n",
        "df.isna().sum()\n",
        "\n",
        "#Data visualization\n",
        "\n",
        "df.plot(figsize=(16,4),legend=True)\n",
        "\n",
        "plt.title('DOM hourly power consumption data - BEFORE NORMALIZATION')\n",
        "\n",
        "plt.show()"
      ],
      "metadata": {
        "id": "CxAxkDJ6-rB5"
      },
      "execution_count": null,
      "outputs": []
    },
    {
      "cell_type": "code",
      "source": [
        "#Normalize DOM hourly power consumption data\n",
        "\n",
        "def normalize_data(df):\n",
        "    scaler = sklearn.preprocessing.MinMaxScaler()\n",
        "    df['DOM_MW']=scaler.fit_transform(df['DOM_MW'].values.reshape(-1,1))\n",
        "    return df\n",
        "\n",
        "df_norm = normalize_data(df)\n",
        "df_norm.shape\n",
        "\n",
        "#Visualize data after normalization\n",
        "\n",
        "df_norm.plot(figsize=(16,4),legend=True)\n",
        "\n",
        "plt.title('DOM hourly power consumption data - AFTER NORMALIZATION')\n",
        "\n",
        "plt.show()"
      ],
      "metadata": {
        "id": "zYF48lQP-thy"
      },
      "execution_count": null,
      "outputs": []
    },
    {
      "cell_type": "code",
      "source": [
        "# train data for deep learning models\n",
        "\n",
        "def load_data(stock, seq_len):\n",
        "    X_train = []\n",
        "    y_train = []\n",
        "    for i in range(seq_len, len(stock)):\n",
        "        X_train.append(stock.iloc[i - seq_len: i, 0])\n",
        "        y_train.append(stock.iloc[i, 0])\n",
        "\n",
        "    # 1 last 6189 days are going to be used in test\n",
        "    X_test = X_train[110000:]\n",
        "    y_test = y_train[110000:]\n",
        "\n",
        "    # 2 first 110000 days are going to be used in training\n",
        "    X_train = X_train[:110000]\n",
        "    y_train = y_train[:110000]\n",
        "\n",
        "    # 3 convert to numpy array\n",
        "    X_train = np.array(X_train)\n",
        "    y_train = np.array(y_train)\n",
        "\n",
        "    X_test = np.array(X_test)\n",
        "    y_test = np.array(y_test)\n",
        "\n",
        "    # 4 reshape data to input into RNN models\n",
        "    X_train = np.reshape(X_train, (110000, seq_len, 1))\n",
        "\n",
        "    X_test = np.reshape(X_test, (X_test.shape[0], seq_len, 1))\n",
        "\n",
        "    return [X_train, y_train, X_test, y_test]"
      ],
      "metadata": {
        "id": "_1HNYay8-vmE"
      },
      "execution_count": null,
      "outputs": []
    },
    {
      "cell_type": "code",
      "source": [
        "#create train, test data\n",
        "seq_len = 20 #choose sequence length\n",
        "\n",
        "X_train, y_train, X_test, y_test = load_data(df, seq_len)\n",
        "\n",
        "print('X_train.shape = ',X_train.shape)\n",
        "print('y_train.shape = ', y_train.shape)\n",
        "print('X_test.shape = ', X_test.shape)\n",
        "print('y_test.shape = ',y_test.shape)"
      ],
      "metadata": {
        "id": "ZKbKWFZy-xKD"
      },
      "execution_count": null,
      "outputs": []
    },
    {
      "cell_type": "markdown",
      "source": [
        "By Pranay\n",
        "We want to compare different models using the performance metrics , here we are using a Simple RNN as a base to start with, The performance metrics we used is R2 score and by adjusting the number of layers and the dropout rate we want to increase the performance."
      ],
      "metadata": {
        "id": "wWWyg4fia6cG"
      }
    },
    {
      "cell_type": "code",
      "source": [
        "#RNN model\n",
        "rnn_model = Sequential()\n",
        "rnn_model.add(SimpleRNN(40,activation=\"tanh\",return_sequences=True, input_shape=(X_train.shape[1],1)))\n",
        "rnn_model.add(Dropout(0.15))\n",
        "rnn_model.add(SimpleRNN(40,activation=\"tanh\",return_sequences=True))\n",
        "rnn_model.add(Dropout(0.2))\n",
        "rnn_model.add(SimpleRNN(40,activation=\"tanh\",return_sequences=True))\n",
        "rnn_model.add(Dropout(0.2))\n",
        "rnn_model.add(SimpleRNN(40,activation=\"tanh\",return_sequences=False))\n",
        "rnn_model.add(Dropout(0.25))\n",
        "rnn_model.add(Dense(1))\n",
        "rnn_model.summary()\n",
        "rnn_model.compile(optimizer=\"adam\",loss=\"MSE\")\n",
        "rnn_model.fit(X_train, y_train, epochs=10, batch_size=1000)"
      ],
      "metadata": {
        "id": "_FaX0so_-y3c"
      },
      "execution_count": null,
      "outputs": []
    },
    {
      "cell_type": "code",
      "source": [
        "#r2 score for the values predicted by the above trained SIMPLE RNN model\n",
        "\n",
        "rnn_predictions = rnn_model.predict(X_test)\n",
        "rnn_score = r2_score(y_test,rnn_predictions)\n",
        "print(\"R2 Score of RNN model = \",rnn_score)"
      ],
      "metadata": {
        "id": "bYpEtGxA-0Wx"
      },
      "execution_count": null,
      "outputs": []
    },
    {
      "cell_type": "code",
      "source": [
        "# compare the actual values vs predicted values by plotting a graph\n",
        "\n",
        "def plot_predictions(test, predicted, title):\n",
        "    plt.figure(figsize=(16, 4))\n",
        "    plt.plot(test, color='blue', label='Actual power consumption data')\n",
        "    plt.plot(predicted, alpha=0.7, color='orange', label='Predicted power consumption data')\n",
        "    plt.title(title)\n",
        "    plt.xlabel('Time')\n",
        "    plt.ylabel('Normalized power consumption scale')\n",
        "    plt.legend()\n",
        "    plt.show()\n",
        "plot_predictions(y_test, rnn_predictions, \"Predictions made by simple RNN model\")"
      ],
      "metadata": {
        "id": "zkbIj0x9-2EJ"
      },
      "execution_count": null,
      "outputs": []
    },
    {
      "cell_type": "code",
      "source": [
        "#train model for LSTM\n",
        "\n",
        "lstm_model = Sequential()\n",
        "lstm_model.add(LSTM(40,activation=\"tanh\",return_sequences=True, input_shape=(X_train.shape[1],1)))\n",
        "lstm_model.add(Dropout(0.15))\n",
        "lstm_model.add(LSTM(40,activation=\"tanh\",return_sequences=True))\n",
        "lstm_model.add(Dropout(0.15))\n",
        "lstm_model.add(LSTM(40,activation=\"tanh\",return_sequences=False))\n",
        "lstm_model.add(Dropout(0.15))\n",
        "lstm_model.add(Dense(1))\n",
        "lstm_model.summary()\n",
        "lstm_model.compile(optimizer=\"adam\",loss=\"MSE\")\n",
        "lstm_model.fit(X_train, y_train, epochs=10, batch_size=1000)"
      ],
      "metadata": {
        "id": "2lRlD-_m-4uu"
      },
      "execution_count": null,
      "outputs": []
    },
    {
      "cell_type": "code",
      "source": [
        "#r2 score for the values predicted by the above trained LSTM model\n",
        "lstm_predictions = lstm_model.predict(X_test)\n",
        "lstm_score = r2_score(y_test, lstm_predictions)\n",
        "print(\"R^2 Score of LSTM model = \",lstm_score)"
      ],
      "metadata": {
        "id": "oe6K8Dav-6vp"
      },
      "execution_count": null,
      "outputs": []
    },
    {
      "cell_type": "code",
      "source": [
        "#actual values vs predicted values by plotting a graph\n",
        "plot_predictions(y_test, lstm_predictions, \"Predictions made by LSTM model\")"
      ],
      "metadata": {
        "id": "tbgL_NFG-8lE"
      },
      "execution_count": null,
      "outputs": []
    },
    {
      "cell_type": "code",
      "source": [
        "#RNN, LSTM model by plotting data in a single graph\n",
        "plt.figure(figsize=(15,8))\n",
        "plt.plot(y_test, c=\"orange\", linewidth=3, label=\"Original values\")\n",
        "plt.plot(lstm_predictions, c=\"red\", linewidth=3, label=\"LSTM predictions\")\n",
        "plt.plot(rnn_predictions, alpha=0.5, c=\"blue\", linewidth=3, label=\"RNN predictions\")\n",
        "plt.legend()\n",
        "plt.title(\"Predictions vs actual data\", fontsize=20)\n",
        "plt.show()"
      ],
      "metadata": {
        "id": "GgVfy3ya--qa"
      },
      "execution_count": null,
      "outputs": []
    }
  ]
}